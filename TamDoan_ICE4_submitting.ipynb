{
  "nbformat": 4,
  "nbformat_minor": 0,
  "metadata": {
    "colab": {
      "name": "TamDoan_ICE4_submitting.ipynb",
      "provenance": [],
      "collapsed_sections": [],
      "authorship_tag": "ABX9TyMZcrTxyMK4W2eLN9k0Zhb2",
      "include_colab_link": true
    },
    "kernelspec": {
      "name": "python3",
      "display_name": "Python 3"
    },
    "language_info": {
      "name": "python"
    }
  },
  "cells": [
    {
      "cell_type": "markdown",
      "metadata": {
        "id": "view-in-github",
        "colab_type": "text"
      },
      "source": [
        "<a href=\"https://colab.research.google.com/github/tamdoancong/CSCE_5290_NLP_TamDoan/blob/main/TamDoan_ICE4_submitting.ipynb\" target=\"_parent\"><img src=\"https://colab.research.google.com/assets/colab-badge.svg\" alt=\"Open In Colab\"/></a>"
      ]
    },
    {
      "cell_type": "markdown",
      "metadata": {
        "id": "YlZU04gbJuM4"
      },
      "source": [
        "## **ICE-4: Text Classification**\n",
        "\n",
        "Text classification terminologies:\n",
        "\n",
        "* **Training:** Set of documents, set of classes (x , y) where documents are hand-labeled or system-generated\n",
        "* **Inference:** Predict the class that the new document belongs to when a new, unseen document is given\n"
      ]
    },
    {
      "cell_type": "markdown",
      "metadata": {
        "id": "xslRzLiW9WQD"
      },
      "source": [
        "## **Task: Classifying News Articles using Naive Bayes**"
      ]
    },
    {
      "cell_type": "code",
      "metadata": {
        "id": "iBW1AGVw8Z5-"
      },
      "source": [
        "# import necessary library\n",
        "import sys\n",
        "import numpy\n",
        "# to avoid NumPy's truncation of outputs when certain code blocks are generated\n",
        "numpy.set_printoptions(threshold=sys.maxsize)\n"
      ],
      "execution_count": null,
      "outputs": []
    },
    {
      "cell_type": "markdown",
      "metadata": {
        "id": "SsXGRa9b9TXT"
      },
      "source": [
        "### **1. Create Dataset**\n"
      ]
    },
    {
      "cell_type": "code",
      "metadata": {
        "id": "VbZl-yaXsq4p"
      },
      "source": [
        "# get data file from google drive\n",
        "# !gdown --id 1JxCCH1rWjxVyVUJgR7_eesHubD6dNtHG"
      ],
      "execution_count": null,
      "outputs": []
    },
    {
      "cell_type": "code",
      "metadata": {
        "id": "2i3SSZWajDpr"
      },
      "source": [
        "# unzip data file\n",
        "# !unzip bbc-updated.zip"
      ],
      "execution_count": null,
      "outputs": []
    },
    {
      "cell_type": "code",
      "metadata": {
        "colab": {
          "base_uri": "https://localhost:8080/"
        },
        "id": "t4V7czrAuMXf",
        "outputId": "fd05bfed-31a4-4a19-e343-198d12a697d8"
      },
      "source": [
        "#read data to pandas data frame\n",
        "import os\n",
        "import pandas as pd\n",
        "def file2string(fname):\n",
        "  with open(fname, 'r', encoding=\"utf-8\") as f:\n",
        "    return f.read()\n",
        "def read_files_folder(path,namefolder):\n",
        "    folders = ([name for name in os.listdir(path) if os.path.splitext(name)[-1]!='.TXT'])  # get all directories\n",
        "    print(f\"List of all folders' name: { folders}\")\n",
        "    l1 = []\n",
        "    l2=[]\n",
        "    d={}\n",
        "    df=pd.DataFrame(columns=['Text','Category'])\n",
        "    text=[]\n",
        "    category=[]\n",
        "    for folder in folders:\n",
        "\n",
        "        filenames=[fname for fname in os.listdir(path+folder)  if os.path.splitext(fname)[-1]=='.txt']\n",
        "        l1.append(len(filenames))\n",
        "        d[folder]=len(filenames)\n",
        "        # print(filenames)\n",
        "        print(f\"List of all files' name in folder { folder} : {filenames}\")\n",
        "        print(f\"Total files' in  { folder} folder : {len(filenames)}\")\n",
        "\n",
        "        for f in filenames:\n",
        "            t=file2string(path+folder+'/'+f)\n",
        "            text.append(t)\n",
        "            category.append(folder)\n",
        "        contents = os.listdir(os.path.join(path, folder))  # get list of contents\n",
        "        # # print(len(contents))\n",
        "        l2.append(len(contents))\n",
        "    df['Text'] = text\n",
        "    df['Category'] = category\n",
        "    print(f\"Total folders in {namefolder} folder  are: {len(folders)} \")\n",
        "    print(f\"Minimum number of  files in subfolders in {namefolder} folder: {min(l1)}\")\n",
        "    print(f\"Maximum number of  files in subfolders in {namefolder}  folder: {max(l1)}\")\n",
        "    print(f\"Total files in {namefolder} folder: {sum(l1)}\")\n",
        "    print(f\"Total text files were appended into text list {len(text)} \")\n",
        "    print(f\"Total labels were appended into category list {len(category)} \")\n",
        "    print(f\"Total text files were read to pandas data frame  :  {df.shape[0]} \")\n",
        "    print(f\"Total instances were insert to pandas data frame  :  {len(df['Text'])}\")\n",
        "    print(f\"Total instances were labeled in pandas data frame: {len(df['Category'])}\")\n",
        "    # print(text[0])\n",
        "    # print(category[0])\n",
        "    #print(df)\n",
        "    print(f\"The folders' name  and  total of files in each folder : \\n {d} \")\n",
        "    if l1==l2 and l1==df.shape[0]: print ( f\"Everything is good :)\")\n",
        "    esle : print (f\" Need to check the code again\")\n",
        "    return df,text,category\n",
        "\n",
        "path='./bbc/'\n",
        "df,text,category=read_files_folder(path,'bbc')"
      ],
      "execution_count": null,
      "outputs": [
        {
          "output_type": "stream",
          "name": "stdout",
          "text": [
            "List of all folders' name: ['business', 'entertainment', 'tech', 'politics', 'sport']\n",
            "List of all files' name in folder business : ['224.txt', '277.txt', '509.txt', '469.txt', '407.txt', '289.txt', '424.txt', '100.txt', '026.txt', '478.txt', '406.txt', '064.txt', '339.txt', '240.txt', '361.txt', '015.txt', '441.txt', '190.txt', '198.txt', '472.txt', '307.txt', '418.txt', '022.txt', '410.txt', '344.txt', '125.txt', '045.txt', '163.txt', '138.txt', '118.txt', '471.txt', '456.txt', '135.txt', '001.txt', '103.txt', '084.txt', '239.txt', '404.txt', '206.txt', '116.txt', '352.txt', '029.txt', '120.txt', '398.txt', '380.txt', '024.txt', '059.txt', '385.txt', '332.txt', '429.txt', '495.txt', '303.txt', '300.txt', '261.txt', '462.txt', '245.txt', '080.txt', '057.txt', '192.txt', '453.txt', '375.txt', '481.txt', '238.txt', '291.txt', '075.txt', '435.txt', '292.txt', '234.txt', '390.txt', '262.txt', '147.txt', '158.txt', '232.txt', '069.txt', '151.txt', '223.txt', '082.txt', '014.txt', '130.txt', '318.txt', '010.txt', '305.txt', '031.txt', '203.txt', '264.txt', '053.txt', '401.txt', '093.txt', '334.txt', '073.txt', '386.txt', '003.txt', '011.txt', '393.txt', '475.txt', '016.txt', '304.txt', '394.txt', '432.txt', '233.txt', '317.txt', '146.txt', '136.txt', '369.txt', '098.txt', '188.txt', '419.txt', '028.txt', '050.txt', '041.txt', '154.txt', '189.txt', '211.txt', '193.txt', '286.txt', '229.txt', '161.txt', '112.txt', '260.txt', '108.txt', '372.txt', '200.txt', '046.txt', '048.txt', '366.txt', '021.txt', '126.txt', '279.txt', '436.txt', '241.txt', '267.txt', '312.txt', '485.txt', '420.txt', '119.txt', '331.txt', '491.txt', '493.txt', '248.txt', '035.txt', '004.txt', '202.txt', '040.txt', '461.txt', '133.txt', '124.txt', '017.txt', '222.txt', '051.txt', '225.txt', '468.txt', '364.txt', '465.txt', '081.txt', '362.txt', '415.txt', '502.txt', '269.txt', '092.txt', '127.txt', '440.txt', '354.txt', '186.txt', '148.txt', '373.txt', '067.txt', '249.txt', '501.txt', '337.txt', '371.txt', '111.txt', '283.txt', '500.txt', '005.txt', '298.txt', '250.txt', '377.txt', '156.txt', '123.txt', '450.txt', '510.txt', '204.txt', '032.txt', '128.txt', '184.txt', '409.txt', '162.txt', '341.txt', '263.txt', '208.txt', '070.txt', '451.txt', '484.txt', '316.txt', '431.txt', '397.txt', '272.txt', '037.txt', '442.txt', '302.txt', '423.txt', '400.txt', '094.txt', '013.txt', '311.txt', '320.txt', '496.txt', '309.txt', '490.txt', '329.txt', '179.txt', '129.txt', '221.txt', '387.txt', '255.txt', '169.txt', '056.txt', '365.txt', '036.txt', '006.txt', '137.txt', '099.txt', '295.txt', '134.txt', '117.txt', '174.txt', '381.txt', '058.txt', '177.txt', '254.txt', '160.txt', '443.txt', '359.txt', '025.txt', '388.txt', '370.txt', '479.txt', '187.txt', '247.txt', '301.txt', '066.txt', '197.txt', '043.txt', '097.txt', '007.txt', '389.txt', '195.txt', '168.txt', '144.txt', '149.txt', '060.txt', '039.txt', '503.txt', '504.txt', '088.txt', '271.txt', '074.txt', '122.txt', '087.txt', '319.txt', '243.txt', '270.txt', '142.txt', '350.txt', '299.txt', '236.txt', '466.txt', '078.txt', '399.txt', '009.txt', '183.txt', '159.txt', '376.txt', '384.txt', '506.txt', '288.txt', '268.txt', '349.txt', '219.txt', '494.txt', '139.txt', '446.txt', '209.txt', '008.txt', '034.txt', '076.txt', '343.txt', '042.txt', '072.txt', '310.txt', '322.txt', '477.txt', '063.txt', '280.txt', '290.txt', '499.txt', '251.txt', '293.txt', '455.txt', '178.txt', '276.txt', '002.txt', '012.txt', '340.txt', '170.txt', '374.txt', '395.txt', '020.txt', '153.txt', '242.txt', '483.txt', '055.txt', '437.txt', '143.txt', '391.txt', '422.txt', '396.txt', '212.txt', '145.txt', '181.txt', '430.txt', '448.txt', '333.txt', '474.txt', '218.txt', '101.txt', '172.txt', '414.txt', '065.txt', '121.txt', '231.txt', '166.txt', '360.txt', '439.txt', '182.txt', '347.txt', '379.txt', '107.txt', '356.txt', '052.txt', '257.txt', '294.txt', '355.txt', '492.txt', '061.txt', '253.txt', '425.txt', '417.txt', '328.txt', '131.txt', '089.txt', '287.txt', '507.txt', '096.txt', '217.txt', '473.txt', '426.txt', '297.txt', '114.txt', '486.txt', '030.txt', '256.txt', '497.txt', '068.txt', '285.txt', '308.txt', '079.txt', '444.txt', '508.txt', '077.txt', '175.txt', '054.txt', '403.txt', '047.txt', '368.txt', '173.txt', '281.txt', '383.txt', '150.txt', '155.txt', '321.txt', '205.txt', '480.txt', '049.txt', '167.txt', '335.txt', '230.txt', '488.txt', '457.txt', '346.txt', '152.txt', '215.txt', '358.txt', '091.txt', '227.txt', '348.txt', '164.txt', '482.txt', '220.txt', '467.txt', '458.txt', '313.txt', '421.txt', '378.txt', '132.txt', '357.txt', '105.txt', '382.txt', '434.txt', '411.txt', '194.txt', '324.txt', '342.txt', '427.txt', '306.txt', '018.txt', '282.txt', '454.txt', '157.txt', '274.txt', '464.txt', '176.txt', '210.txt', '408.txt', '428.txt', '459.txt', '090.txt', '449.txt', '416.txt', '102.txt', '315.txt', '141.txt', '214.txt', '412.txt', '363.txt', '275.txt', '273.txt', '201.txt', '180.txt', '498.txt', '019.txt', '140.txt', '044.txt', '109.txt', '106.txt', '402.txt', '265.txt', '353.txt', '165.txt', '405.txt', '259.txt', '323.txt', '216.txt', '228.txt', '489.txt', '284.txt', '330.txt', '235.txt', '104.txt', '207.txt', '085.txt', '038.txt', '244.txt', '470.txt', '237.txt', '336.txt', '487.txt', '027.txt', '071.txt', '338.txt', '252.txt', '266.txt', '325.txt', '226.txt', '460.txt', '476.txt', '191.txt', '062.txt', '367.txt', '433.txt', '445.txt', '345.txt', '185.txt', '452.txt', '213.txt', '463.txt', '023.txt', '033.txt', '351.txt', '113.txt', '392.txt', '110.txt', '438.txt', '083.txt', '115.txt', '413.txt', '447.txt', '278.txt', '171.txt', '086.txt', '296.txt', '314.txt', '327.txt', '505.txt', '196.txt', '199.txt', '326.txt', '095.txt', '258.txt', '246.txt']\n",
            "Total files' in  business folder : 510\n",
            "List of all files' name in folder entertainment : ['224.txt', '277.txt', '289.txt', '100.txt', '026.txt', '064.txt', '339.txt', '240.txt', '361.txt', '015.txt', '190.txt', '198.txt', '307.txt', '022.txt', '344.txt', '125.txt', '045.txt', '163.txt', '138.txt', '118.txt', '135.txt', '001.txt', '103.txt', '084.txt', '239.txt', '206.txt', '116.txt', '352.txt', '029.txt', '120.txt', '380.txt', '024.txt', '059.txt', '385.txt', '332.txt', '303.txt', '300.txt', '261.txt', '245.txt', '080.txt', '057.txt', '192.txt', '375.txt', '238.txt', '291.txt', '075.txt', '292.txt', '234.txt', '262.txt', '147.txt', '158.txt', '232.txt', '069.txt', '151.txt', '223.txt', '082.txt', '014.txt', '130.txt', '318.txt', '010.txt', '305.txt', '031.txt', '203.txt', '264.txt', '053.txt', '093.txt', '334.txt', '073.txt', '386.txt', '003.txt', '011.txt', '016.txt', '304.txt', '233.txt', '317.txt', '146.txt', '136.txt', '369.txt', '098.txt', '188.txt', '028.txt', '050.txt', '041.txt', '154.txt', '189.txt', '211.txt', '193.txt', '286.txt', '229.txt', '161.txt', '112.txt', '260.txt', '108.txt', '372.txt', '200.txt', '046.txt', '048.txt', '366.txt', '021.txt', '126.txt', '279.txt', '241.txt', '267.txt', '312.txt', '119.txt', '331.txt', '248.txt', '035.txt', '004.txt', '202.txt', '040.txt', '133.txt', '124.txt', '017.txt', '222.txt', '051.txt', '225.txt', '364.txt', '081.txt', '362.txt', '269.txt', '092.txt', '127.txt', '354.txt', '186.txt', '148.txt', '373.txt', '067.txt', '249.txt', '337.txt', '371.txt', '111.txt', '283.txt', '005.txt', '298.txt', '250.txt', '377.txt', '156.txt', '123.txt', '204.txt', '032.txt', '128.txt', '184.txt', '162.txt', '341.txt', '263.txt', '208.txt', '070.txt', '316.txt', '272.txt', '037.txt', '302.txt', '094.txt', '013.txt', '311.txt', '320.txt', '309.txt', '329.txt', '179.txt', '129.txt', '221.txt', '255.txt', '169.txt', '056.txt', '365.txt', '036.txt', '006.txt', '137.txt', '099.txt', '295.txt', '134.txt', '117.txt', '174.txt', '381.txt', '058.txt', '177.txt', '254.txt', '160.txt', '359.txt', '025.txt', '370.txt', '187.txt', '247.txt', '301.txt', '066.txt', '197.txt', '043.txt', '097.txt', '007.txt', '195.txt', '168.txt', '144.txt', '149.txt', '060.txt', '039.txt', '088.txt', '271.txt', '074.txt', '122.txt', '087.txt', '319.txt', '243.txt', '270.txt', '142.txt', '350.txt', '299.txt', '236.txt', '078.txt', '009.txt', '183.txt', '159.txt', '376.txt', '384.txt', '288.txt', '268.txt', '349.txt', '219.txt', '139.txt', '209.txt', '008.txt', '034.txt', '076.txt', '343.txt', '042.txt', '072.txt', '310.txt', '322.txt', '063.txt', '280.txt', '290.txt', '251.txt', '293.txt', '178.txt', '276.txt', '002.txt', '012.txt', '340.txt', '170.txt', '374.txt', '020.txt', '153.txt', '242.txt', '055.txt', '143.txt', '212.txt', '145.txt', '181.txt', '333.txt', '218.txt', '101.txt', '172.txt', '065.txt', '121.txt', '231.txt', '166.txt', '360.txt', '182.txt', '347.txt', '379.txt', '107.txt', '356.txt', '052.txt', '257.txt', '294.txt', '355.txt', '061.txt', '253.txt', '328.txt', '131.txt', '089.txt', '287.txt', '096.txt', '217.txt', '297.txt', '114.txt', '030.txt', '256.txt', '068.txt', '285.txt', '308.txt', '079.txt', '077.txt', '175.txt', '054.txt', '047.txt', '368.txt', '173.txt', '281.txt', '383.txt', '150.txt', '155.txt', '321.txt', '205.txt', '049.txt', '167.txt', '335.txt', '230.txt', '346.txt', '152.txt', '215.txt', '358.txt', '091.txt', '227.txt', '348.txt', '164.txt', '220.txt', '313.txt', '378.txt', '132.txt', '357.txt', '105.txt', '382.txt', '194.txt', '324.txt', '342.txt', '306.txt', '018.txt', '282.txt', '157.txt', '274.txt', '176.txt', '210.txt', '090.txt', '102.txt', '315.txt', '141.txt', '214.txt', '363.txt', '275.txt', '273.txt', '201.txt', '180.txt', '019.txt', '140.txt', '044.txt', '109.txt', '106.txt', '265.txt', '353.txt', '165.txt', '259.txt', '323.txt', '216.txt', '228.txt', '284.txt', '330.txt', '235.txt', '104.txt', '207.txt', '085.txt', '038.txt', '244.txt', '237.txt', '336.txt', '027.txt', '071.txt', '338.txt', '252.txt', '266.txt', '325.txt', '226.txt', '191.txt', '062.txt', '367.txt', '345.txt', '185.txt', '213.txt', '023.txt', '033.txt', '351.txt', '113.txt', '110.txt', '083.txt', '115.txt', '278.txt', '171.txt', '086.txt', '296.txt', '314.txt', '327.txt', '196.txt', '199.txt', '326.txt', '095.txt', '258.txt', '246.txt']\n",
            "Total files' in  entertainment folder : 386\n",
            "List of all files' name in folder tech : ['224.txt', '277.txt', '289.txt', '100.txt', '026.txt', '064.txt', '339.txt', '240.txt', '361.txt', '015.txt', '190.txt', '198.txt', '307.txt', '022.txt', '344.txt', '125.txt', '045.txt', '163.txt', '138.txt', '118.txt', '135.txt', '001.txt', '103.txt', '084.txt', '239.txt', '206.txt', '116.txt', '352.txt', '029.txt', '120.txt', '398.txt', '380.txt', '024.txt', '059.txt', '385.txt', '332.txt', '303.txt', '300.txt', '261.txt', '245.txt', '080.txt', '057.txt', '192.txt', '375.txt', '238.txt', '291.txt', '075.txt', '292.txt', '234.txt', '390.txt', '262.txt', '147.txt', '158.txt', '232.txt', '069.txt', '151.txt', '223.txt', '082.txt', '014.txt', '130.txt', '318.txt', '010.txt', '305.txt', '031.txt', '203.txt', '264.txt', '053.txt', '401.txt', '093.txt', '334.txt', '073.txt', '386.txt', '003.txt', '011.txt', '393.txt', '016.txt', '304.txt', '394.txt', '233.txt', '317.txt', '146.txt', '136.txt', '369.txt', '098.txt', '188.txt', '028.txt', '050.txt', '041.txt', '154.txt', '189.txt', '211.txt', '193.txt', '286.txt', '229.txt', '161.txt', '112.txt', '260.txt', '108.txt', '372.txt', '200.txt', '046.txt', '048.txt', '366.txt', '021.txt', '126.txt', '279.txt', '241.txt', '267.txt', '312.txt', '119.txt', '331.txt', '248.txt', '035.txt', '004.txt', '202.txt', '040.txt', '133.txt', '124.txt', '017.txt', '222.txt', '051.txt', '225.txt', '364.txt', '081.txt', '362.txt', '269.txt', '092.txt', '127.txt', '354.txt', '186.txt', '148.txt', '373.txt', '067.txt', '249.txt', '337.txt', '371.txt', '111.txt', '283.txt', '005.txt', '298.txt', '250.txt', '377.txt', '156.txt', '123.txt', '204.txt', '032.txt', '128.txt', '184.txt', '162.txt', '341.txt', '263.txt', '208.txt', '070.txt', '316.txt', '397.txt', '272.txt', '037.txt', '302.txt', '400.txt', '094.txt', '013.txt', '311.txt', '320.txt', '309.txt', '329.txt', '179.txt', '129.txt', '221.txt', '387.txt', '255.txt', '169.txt', '056.txt', '365.txt', '036.txt', '006.txt', '137.txt', '099.txt', '295.txt', '134.txt', '117.txt', '174.txt', '381.txt', '058.txt', '177.txt', '254.txt', '160.txt', '359.txt', '025.txt', '388.txt', '370.txt', '187.txt', '247.txt', '301.txt', '066.txt', '197.txt', '043.txt', '097.txt', '007.txt', '389.txt', '195.txt', '168.txt', '144.txt', '149.txt', '060.txt', '039.txt', '088.txt', '271.txt', '074.txt', '122.txt', '087.txt', '319.txt', '243.txt', '270.txt', '142.txt', '350.txt', '299.txt', '236.txt', '078.txt', '399.txt', '009.txt', '183.txt', '159.txt', '376.txt', '384.txt', '288.txt', '268.txt', '349.txt', '219.txt', '139.txt', '209.txt', '008.txt', '034.txt', '076.txt', '343.txt', '042.txt', '072.txt', '310.txt', '322.txt', '063.txt', '280.txt', '290.txt', '251.txt', '293.txt', '178.txt', '276.txt', '002.txt', '012.txt', '340.txt', '170.txt', '374.txt', '395.txt', '020.txt', '153.txt', '242.txt', '055.txt', '143.txt', '391.txt', '396.txt', '212.txt', '145.txt', '181.txt', '333.txt', '218.txt', '101.txt', '172.txt', '065.txt', '121.txt', '231.txt', '166.txt', '360.txt', '182.txt', '347.txt', '379.txt', '107.txt', '356.txt', '052.txt', '257.txt', '294.txt', '355.txt', '061.txt', '253.txt', '328.txt', '131.txt', '089.txt', '287.txt', '096.txt', '217.txt', '297.txt', '114.txt', '030.txt', '256.txt', '068.txt', '285.txt', '308.txt', '079.txt', '077.txt', '175.txt', '054.txt', '047.txt', '368.txt', '173.txt', '281.txt', '383.txt', '150.txt', '155.txt', '321.txt', '205.txt', '049.txt', '167.txt', '335.txt', '230.txt', '346.txt', '152.txt', '215.txt', '358.txt', '091.txt', '227.txt', '348.txt', '164.txt', '220.txt', '313.txt', '378.txt', '132.txt', '357.txt', '105.txt', '382.txt', '194.txt', '324.txt', '342.txt', '306.txt', '018.txt', '282.txt', '157.txt', '274.txt', '176.txt', '210.txt', '090.txt', '102.txt', '315.txt', '141.txt', '214.txt', '363.txt', '275.txt', '273.txt', '201.txt', '180.txt', '019.txt', '140.txt', '044.txt', '109.txt', '106.txt', '265.txt', '353.txt', '165.txt', '259.txt', '323.txt', '216.txt', '228.txt', '284.txt', '330.txt', '235.txt', '104.txt', '207.txt', '085.txt', '038.txt', '244.txt', '237.txt', '336.txt', '027.txt', '071.txt', '338.txt', '252.txt', '266.txt', '325.txt', '226.txt', '191.txt', '062.txt', '367.txt', '345.txt', '185.txt', '213.txt', '023.txt', '033.txt', '351.txt', '113.txt', '392.txt', '110.txt', '083.txt', '115.txt', '278.txt', '171.txt', '086.txt', '296.txt', '314.txt', '327.txt', '196.txt', '199.txt', '326.txt', '095.txt', '258.txt', '246.txt']\n",
            "Total files' in  tech folder : 401\n",
            "List of all files' name in folder politics : ['224.txt', '277.txt', '407.txt', '289.txt', '100.txt', '026.txt', '406.txt', '064.txt', '339.txt', '240.txt', '361.txt', '015.txt', '190.txt', '198.txt', '307.txt', '022.txt', '410.txt', '344.txt', '125.txt', '045.txt', '163.txt', '138.txt', '118.txt', '135.txt', '001.txt', '103.txt', '084.txt', '239.txt', '404.txt', '206.txt', '116.txt', '352.txt', '029.txt', '120.txt', '398.txt', '380.txt', '024.txt', '059.txt', '385.txt', '332.txt', '303.txt', '300.txt', '261.txt', '245.txt', '080.txt', '057.txt', '192.txt', '375.txt', '238.txt', '291.txt', '075.txt', '292.txt', '234.txt', '390.txt', '262.txt', '147.txt', '158.txt', '232.txt', '069.txt', '151.txt', '223.txt', '082.txt', '014.txt', '130.txt', '318.txt', '010.txt', '305.txt', '031.txt', '203.txt', '264.txt', '053.txt', '401.txt', '093.txt', '334.txt', '073.txt', '386.txt', '003.txt', '011.txt', '393.txt', '016.txt', '304.txt', '394.txt', '233.txt', '317.txt', '146.txt', '136.txt', '369.txt', '098.txt', '188.txt', '028.txt', '050.txt', '041.txt', '154.txt', '189.txt', '211.txt', '193.txt', '286.txt', '229.txt', '161.txt', '112.txt', '260.txt', '108.txt', '372.txt', '200.txt', '046.txt', '048.txt', '366.txt', '021.txt', '126.txt', '279.txt', '241.txt', '267.txt', '312.txt', '119.txt', '331.txt', '248.txt', '035.txt', '004.txt', '202.txt', '040.txt', '133.txt', '124.txt', '017.txt', '222.txt', '051.txt', '225.txt', '364.txt', '081.txt', '362.txt', '415.txt', '269.txt', '092.txt', '127.txt', '354.txt', '186.txt', '148.txt', '373.txt', '067.txt', '249.txt', '337.txt', '371.txt', '111.txt', '283.txt', '005.txt', '298.txt', '250.txt', '377.txt', '156.txt', '123.txt', '204.txt', '032.txt', '128.txt', '184.txt', '409.txt', '162.txt', '341.txt', '263.txt', '208.txt', '070.txt', '316.txt', '397.txt', '272.txt', '037.txt', '302.txt', '400.txt', '094.txt', '013.txt', '311.txt', '320.txt', '309.txt', '329.txt', '179.txt', '129.txt', '221.txt', '387.txt', '255.txt', '169.txt', '056.txt', '365.txt', '036.txt', '006.txt', '137.txt', '099.txt', '295.txt', '134.txt', '117.txt', '174.txt', '381.txt', '058.txt', '177.txt', '254.txt', '160.txt', '359.txt', '025.txt', '388.txt', '370.txt', '187.txt', '247.txt', '301.txt', '066.txt', '197.txt', '043.txt', '097.txt', '007.txt', '389.txt', '195.txt', '168.txt', '144.txt', '149.txt', '060.txt', '039.txt', '088.txt', '271.txt', '074.txt', '122.txt', '087.txt', '319.txt', '243.txt', '270.txt', '142.txt', '350.txt', '299.txt', '236.txt', '078.txt', '399.txt', '009.txt', '183.txt', '159.txt', '376.txt', '384.txt', '288.txt', '268.txt', '349.txt', '219.txt', '139.txt', '209.txt', '008.txt', '034.txt', '076.txt', '343.txt', '042.txt', '072.txt', '310.txt', '322.txt', '063.txt', '280.txt', '290.txt', '251.txt', '293.txt', '178.txt', '276.txt', '002.txt', '012.txt', '340.txt', '170.txt', '374.txt', '395.txt', '020.txt', '153.txt', '242.txt', '055.txt', '143.txt', '391.txt', '396.txt', '212.txt', '145.txt', '181.txt', '333.txt', '218.txt', '101.txt', '172.txt', '414.txt', '065.txt', '121.txt', '231.txt', '166.txt', '360.txt', '182.txt', '347.txt', '379.txt', '107.txt', '356.txt', '052.txt', '257.txt', '294.txt', '355.txt', '061.txt', '253.txt', '417.txt', '328.txt', '131.txt', '089.txt', '287.txt', '096.txt', '217.txt', '297.txt', '114.txt', '030.txt', '256.txt', '068.txt', '285.txt', '308.txt', '079.txt', '077.txt', '175.txt', '054.txt', '403.txt', '047.txt', '368.txt', '173.txt', '281.txt', '383.txt', '150.txt', '155.txt', '321.txt', '205.txt', '049.txt', '167.txt', '335.txt', '230.txt', '346.txt', '152.txt', '215.txt', '358.txt', '091.txt', '227.txt', '348.txt', '164.txt', '220.txt', '313.txt', '378.txt', '132.txt', '357.txt', '105.txt', '382.txt', '411.txt', '194.txt', '324.txt', '342.txt', '306.txt', '018.txt', '282.txt', '157.txt', '274.txt', '176.txt', '210.txt', '408.txt', '090.txt', '416.txt', '102.txt', '315.txt', '141.txt', '214.txt', '412.txt', '363.txt', '275.txt', '273.txt', '201.txt', '180.txt', '019.txt', '140.txt', '044.txt', '109.txt', '106.txt', '402.txt', '265.txt', '353.txt', '165.txt', '405.txt', '259.txt', '323.txt', '216.txt', '228.txt', '284.txt', '330.txt', '235.txt', '104.txt', '207.txt', '085.txt', '038.txt', '244.txt', '237.txt', '336.txt', '027.txt', '071.txt', '338.txt', '252.txt', '266.txt', '325.txt', '226.txt', '191.txt', '062.txt', '367.txt', '345.txt', '185.txt', '213.txt', '023.txt', '033.txt', '351.txt', '113.txt', '392.txt', '110.txt', '083.txt', '115.txt', '413.txt', '278.txt', '171.txt', '086.txt', '296.txt', '314.txt', '327.txt', '196.txt', '199.txt', '326.txt', '095.txt', '258.txt', '246.txt']\n",
            "Total files' in  politics folder : 417\n",
            "List of all files' name in folder sport : ['224.txt', '277.txt', '509.txt', '469.txt', '407.txt', '289.txt', '424.txt', '100.txt', '026.txt', '478.txt', '406.txt', '064.txt', '339.txt', '240.txt', '361.txt', '015.txt', '441.txt', '190.txt', '198.txt', '472.txt', '307.txt', '418.txt', '022.txt', '410.txt', '344.txt', '125.txt', '045.txt', '163.txt', '138.txt', '118.txt', '471.txt', '456.txt', '135.txt', '001.txt', '103.txt', '084.txt', '239.txt', '404.txt', '206.txt', '116.txt', '352.txt', '029.txt', '120.txt', '398.txt', '380.txt', '024.txt', '059.txt', '385.txt', '332.txt', '429.txt', '495.txt', '303.txt', '300.txt', '261.txt', '462.txt', '245.txt', '080.txt', '057.txt', '192.txt', '453.txt', '375.txt', '481.txt', '238.txt', '291.txt', '075.txt', '435.txt', '511.txt', '292.txt', '234.txt', '390.txt', '262.txt', '147.txt', '158.txt', '232.txt', '069.txt', '151.txt', '223.txt', '082.txt', '014.txt', '130.txt', '318.txt', '010.txt', '305.txt', '031.txt', '203.txt', '264.txt', '053.txt', '401.txt', '093.txt', '334.txt', '073.txt', '386.txt', '003.txt', '011.txt', '393.txt', '475.txt', '016.txt', '304.txt', '394.txt', '432.txt', '233.txt', '317.txt', '146.txt', '136.txt', '369.txt', '098.txt', '188.txt', '419.txt', '028.txt', '050.txt', '041.txt', '154.txt', '189.txt', '211.txt', '193.txt', '286.txt', '229.txt', '161.txt', '112.txt', '260.txt', '108.txt', '372.txt', '200.txt', '046.txt', '048.txt', '366.txt', '021.txt', '126.txt', '279.txt', '436.txt', '241.txt', '267.txt', '312.txt', '485.txt', '420.txt', '119.txt', '331.txt', '491.txt', '493.txt', '248.txt', '035.txt', '004.txt', '202.txt', '040.txt', '461.txt', '133.txt', '124.txt', '017.txt', '222.txt', '051.txt', '225.txt', '468.txt', '364.txt', '465.txt', '081.txt', '362.txt', '415.txt', '502.txt', '269.txt', '092.txt', '127.txt', '440.txt', '354.txt', '186.txt', '148.txt', '373.txt', '067.txt', '249.txt', '501.txt', '337.txt', '371.txt', '111.txt', '283.txt', '500.txt', '005.txt', '298.txt', '250.txt', '377.txt', '156.txt', '123.txt', '450.txt', '510.txt', '204.txt', '032.txt', '128.txt', '184.txt', '409.txt', '162.txt', '341.txt', '263.txt', '208.txt', '070.txt', '451.txt', '484.txt', '316.txt', '431.txt', '397.txt', '272.txt', '037.txt', '442.txt', '302.txt', '423.txt', '400.txt', '094.txt', '013.txt', '311.txt', '320.txt', '496.txt', '309.txt', '490.txt', '329.txt', '179.txt', '129.txt', '221.txt', '387.txt', '255.txt', '169.txt', '056.txt', '365.txt', '036.txt', '006.txt', '137.txt', '099.txt', '295.txt', '134.txt', '117.txt', '174.txt', '381.txt', '058.txt', '177.txt', '254.txt', '160.txt', '443.txt', '359.txt', '025.txt', '388.txt', '370.txt', '479.txt', '187.txt', '247.txt', '301.txt', '066.txt', '197.txt', '043.txt', '097.txt', '007.txt', '389.txt', '195.txt', '168.txt', '144.txt', '149.txt', '060.txt', '039.txt', '503.txt', '504.txt', '088.txt', '271.txt', '074.txt', '122.txt', '087.txt', '319.txt', '243.txt', '270.txt', '142.txt', '350.txt', '299.txt', '236.txt', '466.txt', '078.txt', '399.txt', '009.txt', '183.txt', '159.txt', '376.txt', '384.txt', '506.txt', '288.txt', '268.txt', '349.txt', '219.txt', '494.txt', '139.txt', '446.txt', '209.txt', '008.txt', '034.txt', '076.txt', '343.txt', '042.txt', '072.txt', '310.txt', '322.txt', '477.txt', '063.txt', '280.txt', '290.txt', '499.txt', '251.txt', '293.txt', '455.txt', '178.txt', '276.txt', '002.txt', '012.txt', '340.txt', '170.txt', '374.txt', '395.txt', '020.txt', '153.txt', '242.txt', '483.txt', '055.txt', '437.txt', '143.txt', '391.txt', '422.txt', '396.txt', '212.txt', '145.txt', '181.txt', '430.txt', '448.txt', '333.txt', '474.txt', '218.txt', '101.txt', '172.txt', '414.txt', '065.txt', '121.txt', '231.txt', '166.txt', '360.txt', '439.txt', '182.txt', '347.txt', '379.txt', '107.txt', '356.txt', '052.txt', '257.txt', '294.txt', '355.txt', '492.txt', '061.txt', '253.txt', '425.txt', '417.txt', '328.txt', '131.txt', '089.txt', '287.txt', '507.txt', '096.txt', '217.txt', '473.txt', '426.txt', '297.txt', '114.txt', '486.txt', '030.txt', '256.txt', '497.txt', '068.txt', '285.txt', '308.txt', '079.txt', '444.txt', '508.txt', '077.txt', '175.txt', '054.txt', '403.txt', '047.txt', '368.txt', '173.txt', '281.txt', '383.txt', '150.txt', '155.txt', '321.txt', '205.txt', '480.txt', '049.txt', '167.txt', '335.txt', '230.txt', '488.txt', '457.txt', '346.txt', '152.txt', '215.txt', '358.txt', '091.txt', '227.txt', '348.txt', '164.txt', '482.txt', '220.txt', '467.txt', '458.txt', '313.txt', '421.txt', '378.txt', '132.txt', '357.txt', '105.txt', '382.txt', '434.txt', '411.txt', '194.txt', '324.txt', '342.txt', '427.txt', '306.txt', '018.txt', '282.txt', '454.txt', '157.txt', '274.txt', '464.txt', '176.txt', '210.txt', '408.txt', '428.txt', '459.txt', '090.txt', '449.txt', '416.txt', '102.txt', '315.txt', '141.txt', '214.txt', '412.txt', '363.txt', '275.txt', '273.txt', '201.txt', '180.txt', '498.txt', '019.txt', '140.txt', '044.txt', '109.txt', '106.txt', '402.txt', '265.txt', '353.txt', '165.txt', '405.txt', '259.txt', '323.txt', '216.txt', '228.txt', '489.txt', '284.txt', '330.txt', '235.txt', '104.txt', '207.txt', '085.txt', '038.txt', '244.txt', '470.txt', '237.txt', '336.txt', '487.txt', '027.txt', '071.txt', '338.txt', '252.txt', '266.txt', '325.txt', '226.txt', '460.txt', '476.txt', '191.txt', '062.txt', '367.txt', '433.txt', '445.txt', '345.txt', '185.txt', '452.txt', '213.txt', '463.txt', '023.txt', '033.txt', '351.txt', '113.txt', '392.txt', '110.txt', '438.txt', '083.txt', '115.txt', '413.txt', '447.txt', '278.txt', '171.txt', '086.txt', '296.txt', '314.txt', '327.txt', '505.txt', '196.txt', '326.txt', '095.txt', '258.txt', '246.txt']\n",
            "Total files' in  sport folder : 510\n",
            "Total folders in bbc folder  are: 5 \n",
            "Minimum number of  files in subfolders in bbc folder: 386\n",
            "Maximum number of  files in subfolders in bbc  folder: 510\n",
            "Total files in bbc folder: 2224\n",
            "Total text files were appended into text list 2224 \n",
            "Total labels were appended into category list 2224 \n",
            "Total text files were read to pandas data frame  :  2224 \n",
            "Total instances were insert to pandas data frame  :  2224\n",
            "Total instances were labeled in pandas data frame: 2224\n",
            "The folders' name  and  total of files in each folder : \n",
            " {'business': 510, 'entertainment': 386, 'tech': 401, 'politics': 417, 'sport': 510} \n"
          ]
        }
      ]
    },
    {
      "cell_type": "code",
      "metadata": {
        "colab": {
          "base_uri": "https://localhost:8080/",
          "height": 423
        },
        "id": "TnTx1Dh0wc-h",
        "outputId": "4106c5fc-1bd3-4a46-8ed8-4ac66c9c8ff1"
      },
      "source": [
        "df"
      ],
      "execution_count": null,
      "outputs": [
        {
          "output_type": "execute_result",
          "data": {
            "text/html": [
              "<div>\n",
              "<style scoped>\n",
              "    .dataframe tbody tr th:only-of-type {\n",
              "        vertical-align: middle;\n",
              "    }\n",
              "\n",
              "    .dataframe tbody tr th {\n",
              "        vertical-align: top;\n",
              "    }\n",
              "\n",
              "    .dataframe thead th {\n",
              "        text-align: right;\n",
              "    }\n",
              "</style>\n",
              "<table border=\"1\" class=\"dataframe\">\n",
              "  <thead>\n",
              "    <tr style=\"text-align: right;\">\n",
              "      <th></th>\n",
              "      <th>Text</th>\n",
              "      <th>Category</th>\n",
              "    </tr>\n",
              "  </thead>\n",
              "  <tbody>\n",
              "    <tr>\n",
              "      <th>0</th>\n",
              "      <td>Man Utd to open books to Glazer\\n\\nManchester ...</td>\n",
              "      <td>business</td>\n",
              "    </tr>\n",
              "    <tr>\n",
              "      <th>1</th>\n",
              "      <td>Turkey turns on the economic charm\\n\\nThree ye...</td>\n",
              "      <td>business</td>\n",
              "    </tr>\n",
              "    <tr>\n",
              "      <th>2</th>\n",
              "      <td>Euro firms miss out on optimism\\n\\nMore than 9...</td>\n",
              "      <td>business</td>\n",
              "    </tr>\n",
              "    <tr>\n",
              "      <th>3</th>\n",
              "      <td>IMF agrees fresh Turkey funding\\n\\nTurkey has ...</td>\n",
              "      <td>business</td>\n",
              "    </tr>\n",
              "    <tr>\n",
              "      <th>4</th>\n",
              "      <td>India's Deccan gets more planes\\n\\nAir Deccan ...</td>\n",
              "      <td>business</td>\n",
              "    </tr>\n",
              "    <tr>\n",
              "      <th>...</th>\n",
              "      <td>...</td>\n",
              "      <td>...</td>\n",
              "    </tr>\n",
              "    <tr>\n",
              "      <th>2219</th>\n",
              "      <td>Wenger signs new deal\\n\\nArsenal manager Arsen...</td>\n",
              "      <td>sport</td>\n",
              "    </tr>\n",
              "    <tr>\n",
              "      <th>2220</th>\n",
              "      <td>Robinson answers critics\\n\\nEngland captain Ja...</td>\n",
              "      <td>sport</td>\n",
              "    </tr>\n",
              "    <tr>\n",
              "      <th>2221</th>\n",
              "      <td>Man Utd stroll to Cup win\\n\\nWayne Rooney made...</td>\n",
              "      <td>sport</td>\n",
              "    </tr>\n",
              "    <tr>\n",
              "      <th>2222</th>\n",
              "      <td>Spain coach faces racism inquiry\\n\\nSpain's Fo...</td>\n",
              "      <td>sport</td>\n",
              "    </tr>\n",
              "    <tr>\n",
              "      <th>2223</th>\n",
              "      <td>Chelsea hold Arsenal\\n\\nA gripping game betwee...</td>\n",
              "      <td>sport</td>\n",
              "    </tr>\n",
              "  </tbody>\n",
              "</table>\n",
              "<p>2224 rows × 2 columns</p>\n",
              "</div>"
            ],
            "text/plain": [
              "                                                   Text  Category\n",
              "0     Man Utd to open books to Glazer\\n\\nManchester ...  business\n",
              "1     Turkey turns on the economic charm\\n\\nThree ye...  business\n",
              "2     Euro firms miss out on optimism\\n\\nMore than 9...  business\n",
              "3     IMF agrees fresh Turkey funding\\n\\nTurkey has ...  business\n",
              "4     India's Deccan gets more planes\\n\\nAir Deccan ...  business\n",
              "...                                                 ...       ...\n",
              "2219  Wenger signs new deal\\n\\nArsenal manager Arsen...     sport\n",
              "2220  Robinson answers critics\\n\\nEngland captain Ja...     sport\n",
              "2221  Man Utd stroll to Cup win\\n\\nWayne Rooney made...     sport\n",
              "2222  Spain coach faces racism inquiry\\n\\nSpain's Fo...     sport\n",
              "2223  Chelsea hold Arsenal\\n\\nA gripping game betwee...     sport\n",
              "\n",
              "[2224 rows x 2 columns]"
            ]
          },
          "metadata": {},
          "execution_count": 178
        }
      ]
    },
    {
      "cell_type": "code",
      "metadata": {
        "colab": {
          "base_uri": "https://localhost:8080/",
          "height": 141
        },
        "id": "4_DvYD3DxKGy",
        "outputId": "23346ab5-e96e-4d56-dd90-9874cc798a44"
      },
      "source": [
        " text[0]"
      ],
      "execution_count": null,
      "outputs": [
        {
          "output_type": "execute_result",
          "data": {
            "application/vnd.google.colaboratory.intrinsic+json": {
              "type": "string"
            },
            "text/plain": [
              "'Man Utd to open books to Glazer\\n\\nManchester United\\'s board has agreed to give US tycoon Malcolm Glazer access to its books.\\n\\nEarlier this month, Mr Glazer presented the board with detailed proposals on an offer to buy the football club. In a statement, the club said it would allow Mr Glazer \"limited due diligence\" to give him the opportunity to take the proposal on to a formal bid. But it said it continued to oppose Mr Glazer\\'s plans, calling his assumptions \"aggressive\" and his plan \"damaging\". Many of Manchester United\\'s supporters own shares in the club, and the fan-based group Shareholders United is strongly opposed to any takeover by Mr Glazer. About 300 fans protested outside the Old Trafford ground two days ago.\\n\\nRival local club Manchester City has pleaded with visiting fans not to protest inside its ground when the two teams play a televised match on Sunday.\\n\\nManchester United\\'s response comes as little surprise, as the board made clear. \"Any board has a responsibility to consider a bona fide offer proposal,\" the club said in its statement. Should it become a firm offer, it should be at a price that \"the board is likely to regard as fair\" and on terms which \"may be deliverable\". But it also stressed that it stayed opposed to Mr Glazer\\'s proposal. \"The board continues to believe that Mr Glazer\\'s business plan assumptions are aggressive,\" the statement said, \"and the direct and indirect financial strain on the business could be damaging.\" Whether or not the bid is attractive in monetary terms, in the case of Manchester United many investors hold the stock for sentimental rather than financial reasons. At present, Mr Glazer and his family hold a 28.1% stake, making them Manchester United\\'s second biggest shareholders. They own the successful Tampa Bay Buccaneers American football team based in Florida. If the family makes a formal offer, they will need the support of the club\\'s biggest shareholders.\\n\\nIrish horse racing millionaires JP McManus and John Magnier own 29% of United through their investment vehicle Cubic Expression, and have yet to express a view on the bid approach.\\n\\nA group of five MPs are calling on the Department of Trade and Industry to block any takeover of the club by the US football magnate on public interest grounds. They have signed a House of Commons motion, and Tony Lloyd, the Manchester Central MP, whose constituency includes the club\\'s Old Trafford ground, has pledged to take the matter \"to Tony Blair if necessary\". The Commons motion says \"any takeover designed to transform the club into a private company would be against the interests of those supporters and football\". However, the DTI has dismissed the proposal. A spokesman said the department did not believe there was a case for changing the Enterprise Act so that takeovers of football clubs could be looked at on non-competition grounds. Mr Glazer\\'s offer values the club at £800m ($1.5bn). Pitched at 300p per share, it also relies less on debt to finance it than an earlier approach from the US tycoon, which was rejected out of hand. Manchester United shares closed at 270.25p on Friday, down 3.75p on the day.\\n'"
            ]
          },
          "metadata": {},
          "execution_count": 179
        }
      ]
    },
    {
      "cell_type": "code",
      "metadata": {
        "colab": {
          "base_uri": "https://localhost:8080/",
          "height": 35
        },
        "id": "PD2puiLwxTq8",
        "outputId": "a56e01e6-b632-43a1-c298-791032d4b5aa"
      },
      "source": [
        "category[0]"
      ],
      "execution_count": null,
      "outputs": [
        {
          "output_type": "execute_result",
          "data": {
            "application/vnd.google.colaboratory.intrinsic+json": {
              "type": "string"
            },
            "text/plain": [
              "'business'"
            ]
          },
          "metadata": {},
          "execution_count": 180
        }
      ]
    },
    {
      "cell_type": "code",
      "metadata": {
        "colab": {
          "base_uri": "https://localhost:8080/",
          "height": 141
        },
        "id": "wRtpFIX1Cuab",
        "outputId": "d71b8608-14ed-47d6-e40a-9c31640e84c8"
      },
      "source": [
        "df['Text'][0]"
      ],
      "execution_count": null,
      "outputs": [
        {
          "output_type": "execute_result",
          "data": {
            "application/vnd.google.colaboratory.intrinsic+json": {
              "type": "string"
            },
            "text/plain": [
              "'Man Utd to open books to Glazer\\n\\nManchester United\\'s board has agreed to give US tycoon Malcolm Glazer access to its books.\\n\\nEarlier this month, Mr Glazer presented the board with detailed proposals on an offer to buy the football club. In a statement, the club said it would allow Mr Glazer \"limited due diligence\" to give him the opportunity to take the proposal on to a formal bid. But it said it continued to oppose Mr Glazer\\'s plans, calling his assumptions \"aggressive\" and his plan \"damaging\". Many of Manchester United\\'s supporters own shares in the club, and the fan-based group Shareholders United is strongly opposed to any takeover by Mr Glazer. About 300 fans protested outside the Old Trafford ground two days ago.\\n\\nRival local club Manchester City has pleaded with visiting fans not to protest inside its ground when the two teams play a televised match on Sunday.\\n\\nManchester United\\'s response comes as little surprise, as the board made clear. \"Any board has a responsibility to consider a bona fide offer proposal,\" the club said in its statement. Should it become a firm offer, it should be at a price that \"the board is likely to regard as fair\" and on terms which \"may be deliverable\". But it also stressed that it stayed opposed to Mr Glazer\\'s proposal. \"The board continues to believe that Mr Glazer\\'s business plan assumptions are aggressive,\" the statement said, \"and the direct and indirect financial strain on the business could be damaging.\" Whether or not the bid is attractive in monetary terms, in the case of Manchester United many investors hold the stock for sentimental rather than financial reasons. At present, Mr Glazer and his family hold a 28.1% stake, making them Manchester United\\'s second biggest shareholders. They own the successful Tampa Bay Buccaneers American football team based in Florida. If the family makes a formal offer, they will need the support of the club\\'s biggest shareholders.\\n\\nIrish horse racing millionaires JP McManus and John Magnier own 29% of United through their investment vehicle Cubic Expression, and have yet to express a view on the bid approach.\\n\\nA group of five MPs are calling on the Department of Trade and Industry to block any takeover of the club by the US football magnate on public interest grounds. They have signed a House of Commons motion, and Tony Lloyd, the Manchester Central MP, whose constituency includes the club\\'s Old Trafford ground, has pledged to take the matter \"to Tony Blair if necessary\". The Commons motion says \"any takeover designed to transform the club into a private company would be against the interests of those supporters and football\". However, the DTI has dismissed the proposal. A spokesman said the department did not believe there was a case for changing the Enterprise Act so that takeovers of football clubs could be looked at on non-competition grounds. Mr Glazer\\'s offer values the club at £800m ($1.5bn). Pitched at 300p per share, it also relies less on debt to finance it than an earlier approach from the US tycoon, which was rejected out of hand. Manchester United shares closed at 270.25p on Friday, down 3.75p on the day.\\n'"
            ]
          },
          "metadata": {},
          "execution_count": 181
        }
      ]
    },
    {
      "cell_type": "code",
      "metadata": {
        "colab": {
          "base_uri": "https://localhost:8080/",
          "height": 35
        },
        "id": "eAgLHlAgC6ON",
        "outputId": "c4fb8d28-9689-4fe9-f0eb-c0296787dd75"
      },
      "source": [
        "df['Category'][0]"
      ],
      "execution_count": null,
      "outputs": [
        {
          "output_type": "execute_result",
          "data": {
            "application/vnd.google.colaboratory.intrinsic+json": {
              "type": "string"
            },
            "text/plain": [
              "'business'"
            ]
          },
          "metadata": {},
          "execution_count": 182
        }
      ]
    },
    {
      "cell_type": "code",
      "metadata": {
        "colab": {
          "base_uri": "https://localhost:8080/"
        },
        "id": "yNtbrqqAx8j7",
        "outputId": "7d6015fc-e21d-4ca6-ce32-2b41537031e0"
      },
      "source": [
        "df.size"
      ],
      "execution_count": null,
      "outputs": [
        {
          "output_type": "execute_result",
          "data": {
            "text/plain": [
              "4448"
            ]
          },
          "metadata": {},
          "execution_count": 183
        }
      ]
    },
    {
      "cell_type": "code",
      "metadata": {
        "colab": {
          "base_uri": "https://localhost:8080/"
        },
        "id": "UgwyOq_0yowL",
        "outputId": "c98f79b8-fce9-463c-df35-be7ed3edb6df"
      },
      "source": [
        "df.shape"
      ],
      "execution_count": null,
      "outputs": [
        {
          "output_type": "execute_result",
          "data": {
            "text/plain": [
              "(2224, 2)"
            ]
          },
          "metadata": {},
          "execution_count": 184
        }
      ]
    },
    {
      "cell_type": "code",
      "metadata": {
        "colab": {
          "base_uri": "https://localhost:8080/",
          "height": 363
        },
        "id": "jcOMBVF2y-6T",
        "outputId": "2ecd3647-e589-405f-aad3-2dc0df34fa79"
      },
      "source": [
        "df.head(10)"
      ],
      "execution_count": null,
      "outputs": [
        {
          "output_type": "execute_result",
          "data": {
            "text/html": [
              "<div>\n",
              "<style scoped>\n",
              "    .dataframe tbody tr th:only-of-type {\n",
              "        vertical-align: middle;\n",
              "    }\n",
              "\n",
              "    .dataframe tbody tr th {\n",
              "        vertical-align: top;\n",
              "    }\n",
              "\n",
              "    .dataframe thead th {\n",
              "        text-align: right;\n",
              "    }\n",
              "</style>\n",
              "<table border=\"1\" class=\"dataframe\">\n",
              "  <thead>\n",
              "    <tr style=\"text-align: right;\">\n",
              "      <th></th>\n",
              "      <th>Text</th>\n",
              "      <th>Category</th>\n",
              "    </tr>\n",
              "  </thead>\n",
              "  <tbody>\n",
              "    <tr>\n",
              "      <th>0</th>\n",
              "      <td>Man Utd to open books to Glazer\\n\\nManchester ...</td>\n",
              "      <td>business</td>\n",
              "    </tr>\n",
              "    <tr>\n",
              "      <th>1</th>\n",
              "      <td>Turkey turns on the economic charm\\n\\nThree ye...</td>\n",
              "      <td>business</td>\n",
              "    </tr>\n",
              "    <tr>\n",
              "      <th>2</th>\n",
              "      <td>Euro firms miss out on optimism\\n\\nMore than 9...</td>\n",
              "      <td>business</td>\n",
              "    </tr>\n",
              "    <tr>\n",
              "      <th>3</th>\n",
              "      <td>IMF agrees fresh Turkey funding\\n\\nTurkey has ...</td>\n",
              "      <td>business</td>\n",
              "    </tr>\n",
              "    <tr>\n",
              "      <th>4</th>\n",
              "      <td>India's Deccan gets more planes\\n\\nAir Deccan ...</td>\n",
              "      <td>business</td>\n",
              "    </tr>\n",
              "    <tr>\n",
              "      <th>5</th>\n",
              "      <td>UK economy facing 'major risks'\\n\\nThe UK manu...</td>\n",
              "      <td>business</td>\n",
              "    </tr>\n",
              "    <tr>\n",
              "      <th>6</th>\n",
              "      <td>EU-US seeking deal on air dispute\\n\\nThe EU an...</td>\n",
              "      <td>business</td>\n",
              "    </tr>\n",
              "    <tr>\n",
              "      <th>7</th>\n",
              "      <td>Ebbers denies WorldCom fraud\\n\\nFormer WorldCo...</td>\n",
              "      <td>business</td>\n",
              "    </tr>\n",
              "    <tr>\n",
              "      <th>8</th>\n",
              "      <td>Safety alert as GM recalls cars\\n\\nThe world's...</td>\n",
              "      <td>business</td>\n",
              "    </tr>\n",
              "    <tr>\n",
              "      <th>9</th>\n",
              "      <td>Egypt and Israel seal trade deal\\n\\nIn a sign ...</td>\n",
              "      <td>business</td>\n",
              "    </tr>\n",
              "  </tbody>\n",
              "</table>\n",
              "</div>"
            ],
            "text/plain": [
              "                                                Text  Category\n",
              "0  Man Utd to open books to Glazer\\n\\nManchester ...  business\n",
              "1  Turkey turns on the economic charm\\n\\nThree ye...  business\n",
              "2  Euro firms miss out on optimism\\n\\nMore than 9...  business\n",
              "3  IMF agrees fresh Turkey funding\\n\\nTurkey has ...  business\n",
              "4  India's Deccan gets more planes\\n\\nAir Deccan ...  business\n",
              "5  UK economy facing 'major risks'\\n\\nThe UK manu...  business\n",
              "6  EU-US seeking deal on air dispute\\n\\nThe EU an...  business\n",
              "7  Ebbers denies WorldCom fraud\\n\\nFormer WorldCo...  business\n",
              "8  Safety alert as GM recalls cars\\n\\nThe world's...  business\n",
              "9  Egypt and Israel seal trade deal\\n\\nIn a sign ...  business"
            ]
          },
          "metadata": {},
          "execution_count": 185
        }
      ]
    },
    {
      "cell_type": "code",
      "metadata": {
        "id": "2EGShp0A3WTb"
      },
      "source": [
        "# split data into train and test set\n",
        "from sklearn.model_selection import train_test_split\n",
        "train,test=train_test_split(df,test_size=.3,random_state=237)"
      ],
      "execution_count": null,
      "outputs": []
    },
    {
      "cell_type": "code",
      "metadata": {
        "colab": {
          "base_uri": "https://localhost:8080/",
          "height": 423
        },
        "id": "faW4QSPlG8c7",
        "outputId": "902ada5b-b8cc-4a29-bf53-9e92e80c4b4f"
      },
      "source": [
        "train"
      ],
      "execution_count": null,
      "outputs": [
        {
          "output_type": "execute_result",
          "data": {
            "text/html": [
              "<div>\n",
              "<style scoped>\n",
              "    .dataframe tbody tr th:only-of-type {\n",
              "        vertical-align: middle;\n",
              "    }\n",
              "\n",
              "    .dataframe tbody tr th {\n",
              "        vertical-align: top;\n",
              "    }\n",
              "\n",
              "    .dataframe thead th {\n",
              "        text-align: right;\n",
              "    }\n",
              "</style>\n",
              "<table border=\"1\" class=\"dataframe\">\n",
              "  <thead>\n",
              "    <tr style=\"text-align: right;\">\n",
              "      <th></th>\n",
              "      <th>Text</th>\n",
              "      <th>Category</th>\n",
              "    </tr>\n",
              "  </thead>\n",
              "  <tbody>\n",
              "    <tr>\n",
              "      <th>2124</th>\n",
              "      <td>Vickery upbeat about arm injury\\n\\nEngland pro...</td>\n",
              "      <td>sport</td>\n",
              "    </tr>\n",
              "    <tr>\n",
              "      <th>1723</th>\n",
              "      <td>Clijsters hope on Aussie Open\\n\\nKim Clijsters...</td>\n",
              "      <td>sport</td>\n",
              "    </tr>\n",
              "    <tr>\n",
              "      <th>712</th>\n",
              "      <td>Hendrix guitar fetches £100,000\\n\\nA much-love...</td>\n",
              "      <td>entertainment</td>\n",
              "    </tr>\n",
              "    <tr>\n",
              "      <th>485</th>\n",
              "      <td>US economy still growing says Fed\\n\\nMost area...</td>\n",
              "      <td>business</td>\n",
              "    </tr>\n",
              "    <tr>\n",
              "      <th>171</th>\n",
              "      <td>Stock market eyes Japan recovery\\n\\nJapanese s...</td>\n",
              "      <td>business</td>\n",
              "    </tr>\n",
              "    <tr>\n",
              "      <th>...</th>\n",
              "      <td>...</td>\n",
              "      <td>...</td>\n",
              "    </tr>\n",
              "    <tr>\n",
              "      <th>1834</th>\n",
              "      <td>Clyde 0-5 Celtic\\n\\nCeltic brushed aside Clyde...</td>\n",
              "      <td>sport</td>\n",
              "    </tr>\n",
              "    <tr>\n",
              "      <th>1672</th>\n",
              "      <td>Lib Dems' new election PR chief\\n\\nThe Lib Dem...</td>\n",
              "      <td>politics</td>\n",
              "    </tr>\n",
              "    <tr>\n",
              "      <th>1283</th>\n",
              "      <td>Microsoft makes anti-piracy move\\n\\nMicrosoft ...</td>\n",
              "      <td>tech</td>\n",
              "    </tr>\n",
              "    <tr>\n",
              "      <th>834</th>\n",
              "      <td>Hoffman hits out over modern film\\n\\nHollywood...</td>\n",
              "      <td>entertainment</td>\n",
              "    </tr>\n",
              "    <tr>\n",
              "      <th>1855</th>\n",
              "      <td>IAAF launches fight against drugs\\n\\nThe IAAF ...</td>\n",
              "      <td>sport</td>\n",
              "    </tr>\n",
              "  </tbody>\n",
              "</table>\n",
              "<p>1556 rows × 2 columns</p>\n",
              "</div>"
            ],
            "text/plain": [
              "                                                   Text       Category\n",
              "2124  Vickery upbeat about arm injury\\n\\nEngland pro...          sport\n",
              "1723  Clijsters hope on Aussie Open\\n\\nKim Clijsters...          sport\n",
              "712   Hendrix guitar fetches £100,000\\n\\nA much-love...  entertainment\n",
              "485   US economy still growing says Fed\\n\\nMost area...       business\n",
              "171   Stock market eyes Japan recovery\\n\\nJapanese s...       business\n",
              "...                                                 ...            ...\n",
              "1834  Clyde 0-5 Celtic\\n\\nCeltic brushed aside Clyde...          sport\n",
              "1672  Lib Dems' new election PR chief\\n\\nThe Lib Dem...       politics\n",
              "1283  Microsoft makes anti-piracy move\\n\\nMicrosoft ...           tech\n",
              "834   Hoffman hits out over modern film\\n\\nHollywood...  entertainment\n",
              "1855  IAAF launches fight against drugs\\n\\nThe IAAF ...          sport\n",
              "\n",
              "[1556 rows x 2 columns]"
            ]
          },
          "metadata": {},
          "execution_count": 187
        }
      ]
    },
    {
      "cell_type": "code",
      "metadata": {
        "colab": {
          "base_uri": "https://localhost:8080/"
        },
        "id": "ELh1t76gH_UE",
        "outputId": "36ed1519-1be9-48a7-a06e-88ce2ccfe18b"
      },
      "source": [
        "train.shape"
      ],
      "execution_count": null,
      "outputs": [
        {
          "output_type": "execute_result",
          "data": {
            "text/plain": [
              "(1556, 2)"
            ]
          },
          "metadata": {},
          "execution_count": 188
        }
      ]
    },
    {
      "cell_type": "code",
      "metadata": {
        "colab": {
          "base_uri": "https://localhost:8080/",
          "height": 141
        },
        "id": "u_LFn_W5ID0o",
        "outputId": "b1418f95-bf20-4e4f-ac66-82404b0c2541"
      },
      "source": [
        "train['Text'][2124]"
      ],
      "execution_count": null,
      "outputs": [
        {
          "output_type": "execute_result",
          "data": {
            "application/vnd.google.colaboratory.intrinsic+json": {
              "type": "string"
            },
            "text/plain": [
              "'Vickery upbeat about arm injury\\n\\nEngland prop Phil Vickery is staying positive despite a broken arm ruling him out of the RBS Six Nations.\\n\\nThe 28-year-old fractured the radius in his right forearm during Gloucester\\'s 17-16 win over Bath on Saturday. He will undergo an operation on Monday and is expected to be out for at least six weeks. He said: \"This isn\\'t an injury that will stop me from working hard on the fitness elements and being around the lads.\" He added: \"I\\'ve got the operation this afternoon and I could be back doing fitness work after a week.\" \"As frustrating as it is, I\\'ve got to be positive.\"\\n\\nAfter the game, Vickery spoke with Bath prop David Barnes, who also broke his arm recently. \"I had a chat with David Barnes and it looks like a similar injury to him,\" he said. \"He said he had the operation and he was back running after a week. \"There\\'s no doubt that I\\'m going to get involved and be around this place as soon as I can after the operation.\" Gloucester director of rugby Nigel Melville said: \"Phil has broken his radius, which is the large bone in his forearm. \"I don\\'t really know how it happened, but Phil will definitely be out of action for at least six weeks. \"I feel very sorry for him, as he has been in great shape. He really needed 80 minutes of rugby this weekend, and then this happened. Mentally, it must be very hard for him.\"\\n'"
            ]
          },
          "metadata": {},
          "execution_count": 189
        }
      ]
    },
    {
      "cell_type": "code",
      "metadata": {
        "colab": {
          "base_uri": "https://localhost:8080/",
          "height": 35
        },
        "id": "5hVfCawhIcU9",
        "outputId": "d5a0105f-ae46-48b2-9c1e-4b526ebf7fe8"
      },
      "source": [
        "train['Category'][2124]"
      ],
      "execution_count": null,
      "outputs": [
        {
          "output_type": "execute_result",
          "data": {
            "application/vnd.google.colaboratory.intrinsic+json": {
              "type": "string"
            },
            "text/plain": [
              "'sport'"
            ]
          },
          "metadata": {},
          "execution_count": 190
        }
      ]
    },
    {
      "cell_type": "code",
      "metadata": {
        "colab": {
          "base_uri": "https://localhost:8080/",
          "height": 141
        },
        "id": "eXIO0elNH8KY",
        "outputId": "b7467d7c-9525-4f13-9175-5902ad9407b2"
      },
      "source": [
        "test['Text'][225]"
      ],
      "execution_count": null,
      "outputs": [
        {
          "output_type": "execute_result",
          "data": {
            "application/vnd.google.colaboratory.intrinsic+json": {
              "type": "string"
            },
            "text/plain": [
              "'Yangtze Electric\\'s profits double\\n\\nYangtze Electric Power, the operator of China\\'s Three Gorges Dam, has said its profits more than doubled in 2004.\\n\\nThe firm has benefited from increased demand for electricity at a time when power shortages have hit cities and provinces across the country. As a hydroelectric-power generator it has not been hurt by higher coal costs. Net income jumped to 3bn yuan in 2004 ($365m; £190m), compared with 1.4bn yuan in 2003. Sales surged to 6.2bn yuan, from 3bn yuan a year earlier. The figures topped analysts expectations, even though the rate of growth has slowed from 2003. Analysts forecast that it is likely to decline further this year to a rate of expansion of closer to 20%.\\n\\nYangtze Electric has been expanding its output to meet demand driven by China\\'s booming economy. The government has delayed the building of a number of power plants in an effort to rein in growth amid concerns that the economy may overheat. That has led to an energy crunch, with demand outstripping supply. Earlier this month, work was halted on an underground power station, and a supply unit on the Three Gorges Dam, as well as a power station on its sister Xiluodu dam because of environmental worries. A total of 30 large-scale projects have been halted across the country for similar reasons. The Three Gorges Dam project has led to more than half a million people being relocated and drawn criticism from environmental groups and overseas human rights activists. Its sister project, the Xiluodu Dam, is being built on the Jinshajiang - or \"river of golden sand\" as the upper reaches of the Yangtze are known.\\n'"
            ]
          },
          "metadata": {},
          "execution_count": 191
        }
      ]
    },
    {
      "cell_type": "code",
      "metadata": {
        "colab": {
          "base_uri": "https://localhost:8080/",
          "height": 35
        },
        "id": "qdDAZ0MJIo5N",
        "outputId": "08943ce2-5eb3-4a7b-8510-9366a0e5768a"
      },
      "source": [
        "test['Category'][225]"
      ],
      "execution_count": null,
      "outputs": [
        {
          "output_type": "execute_result",
          "data": {
            "application/vnd.google.colaboratory.intrinsic+json": {
              "type": "string"
            },
            "text/plain": [
              "'business'"
            ]
          },
          "metadata": {},
          "execution_count": 192
        }
      ]
    },
    {
      "cell_type": "markdown",
      "metadata": {
        "id": "M47rfFvWJLi5"
      },
      "source": [
        "### **2. Feature Extraction (Prepare Inputs)**"
      ]
    },
    {
      "cell_type": "markdown",
      "metadata": {
        "id": "OUMy5_EsJhH2"
      },
      "source": [
        "**Question 1(a): Given the vocabulary *V*, what is the corresponding BoW representation for sentence *S* using the word absence/presence measure?**\n",
        "\n",
        "***V: { fishing, likes, at, too, Beth, family, campfire, Adam, beach, the, vacation, lake, enjoys }***\n",
        "\n",
        "***S: \"Adam enjoys fishing at the lake. Beth likes fishing too.\"***\n",
        "\n",
        "**Instructions:** This question is to be answered without using any code. **DO NOT** use scikit-learn or other NLP libraries to answer this question."
      ]
    },
    {
      "cell_type": "markdown",
      "metadata": {
        "id": "Ht9xH96zcvhp"
      },
      "source": [
        "**Answer for Question 1(a):** <br>\n",
        "***V: { fishing, likes, at, too, Beth, family, campfire, Adam, beach, the, vacation, lake, enjoys }***\n",
        "\n",
        "***S: \"Adam enjoys fishing at the lake. Beth likes fishing too.\"***<br>\n",
        "The corresponding BoW representation for sentence S using the word absence/presence measure: <br> \n",
        " ***BoW_S1a={ fishing: 1, likes:1, at:1, too:1, Beth:1, family:0, campfire:0, Adam:1, beach : 0, the:1, vacation:0, lake:1, enjoys:1 }***"
      ]
    },
    {
      "cell_type": "markdown",
      "metadata": {
        "id": "lHYzebtZuIt3"
      },
      "source": [
        "**Question 1(b): Given the same vocabulary *V*, what is the corresponding BoW representation for sentence *S* using the term frequency measure?**\n",
        "\n",
        "***V: { fishing, likes, at, too, Beth, family, campfire, Adam, beach, the, vacation, lake, enjoys }***\n",
        "\n",
        "***S: \"Adam enjoys fishing at the lake. Beth likes fishing too.\"***\n",
        "\n",
        "**Instructions:** This question is to be answered without using any code and/or scikit-learn. **DO NOT** use scikit-learn or other NLP libraries to answer this question."
      ]
    },
    {
      "cell_type": "markdown",
      "metadata": {
        "id": "UKIjzDqWvPBn"
      },
      "source": [
        "**Answer for Question 1(b):** <br>\n",
        "***V: { fishing, likes, at, too, Beth, family, campfire, Adam, beach, the, vacation, lake, enjoys }***\n",
        "\n",
        "***S: \"Adam enjoys fishing at the lake. Beth likes fishing too.\"***<br>\n",
        "The corresponding BoW representation for sentence S using the term frequency measure:<br>\n",
        "***BoW_S1b={ fishing: 2, likes:1, at:1, too:1, Beth:1, family:0, campfire:0, Adam:1, beach:0, the:1, vacation:0, lake:1, enjoys:1 }***"
      ]
    },
    {
      "cell_type": "markdown",
      "metadata": {
        "id": "Y8blkvPgTvLJ"
      },
      "source": [
        "**Question 2: Given the same vocabulary (as in Questions 1a. and 1b.), write the BoW representations for the following sentence S using both measures (presence/absence of words and term frequency information):**\n",
        "\n",
        "***S: He wanted to bring peace to his kingdom but his enemies killed him.***\n",
        "\n",
        "**Instructions:** This question is to be answered without using any code and/or scikit-learn.  **DO NOT** use scikit-learn or other NLP libraries to answer this question."
      ]
    },
    {
      "cell_type": "markdown",
      "metadata": {
        "id": "nGtvK9p2T1C4"
      },
      "source": [
        "**Answer for Question 2:** <br>\n",
        "***V: { fishing, likes, at, too, Beth, family, campfire, Adam, beach, the, vacation, lake, enjoys }***\n",
        "\n",
        "***S: He wanted to bring peace to his kingdom but his enemies killed him.***<br>\n",
        "The corresponding BoW representation for sentence S in question 2 using both measures (presence/absence of words and term frequency information):<br>\n",
        "***BoW_S2={ fishing: 0, likes:0, at:0, too:0, Beth:0, family:0, campfire:0, Adam:0, beach:0, the:0, vacation:0, lake:0, enjoys:0 }***<br>\n",
        "Thus, all the words in the given sentence are not in the given vocabulary list."
      ]
    },
    {
      "cell_type": "markdown",
      "metadata": {
        "id": "QoxTzcs-bhqq"
      },
      "source": [
        "**Question 3: Consider the following code snippet:**\n",
        "\n",
        "```\n",
        "bow_vect = CountVectorizer()\n",
        "\n",
        "some_corpus = [\n",
        "     'It is raining heavily today.',\n",
        "     'And the weather is unpredictable.',\n",
        "     'Weather forecast for tomorrow says sunny.',\n",
        "     'Is it raining heavily today?',\n",
        "]\n",
        "\n",
        "res_data = bow_vect.fit_transform(some_corpus)\n",
        "\n",
        "bow_vect.get_feature_names())\n",
        ">>> ['and', 'for', 'forecast', 'heavily', 'is', 'it', 'raining', 'says', 'sunny', 'the', 'today', 'tomorrow', 'unpredictable', 'weather']\n",
        "\n",
        "\n",
        "res_data.toarray()\n",
        ">>> array([ [0, 0, 0, 1, 1, 1, 1, 0, 0, 0, 1, 0, 0, 0],\n",
        "            [1, 0, 0, 0, 1, 0, 0, 0, 0, 1, 0, 0, 1, 1],\n",
        "            [0, 1, 1, 0, 0, 0, 0, 1, 1, 0, 0, 1, 0, 1],\n",
        "            [0, 0, 0, 1, 1, 1, 1, 0, 0, 0, 1, 0, 0, 0] ])\n",
        "\n",
        "```\n",
        "\n",
        "**In the above snippet, '>>>' indicates the output corresponding to the previous line of code. Something interesting is happening after the sentences are converted to their BoW representations. Can you identify? After you identify, provide your observation about what might be impacted/affected when using the encoded representations as shown in the above code snippet.**\n",
        "\n",
        "**Instructions:** You do not have to run the above code again since the outputs that you would need to answer the corresponding question is already provided.\n"
      ]
    },
    {
      "cell_type": "markdown",
      "metadata": {
        "id": "b8j1FchFb0a9"
      },
      "source": [
        "**Answer for Question 3:** <br>\n",
        "The sequence of words is important .  These two sentences “It is raining heavily today.” and “Is it raining heavily today?” have totally different meaning. However, BoW represents them with only one vector [0, 0, 0, 1, 1, 1, 1, 0, 0, 0, 1, 0, 0, 0]."
      ]
    },
    {
      "cell_type": "markdown",
      "metadata": {
        "id": "q9JXW2Ijftz1"
      },
      "source": [
        "**Question 4: For the given task, use the term frequency measure to compute the BoW representations for the text documents in the modified version of the BBC dataset.**\n",
        "\n",
        "**Instructions:** \n",
        "* This question is to be answered by using scikit-learn (similar to what was demonstrated in the tutorial section)\n",
        "* Create BoW representations for train and test sets."
      ]
    },
    {
      "cell_type": "code",
      "metadata": {
        "colab": {
          "base_uri": "https://localhost:8080/"
        },
        "id": "8fcbeAUjgS3M",
        "outputId": "f9214c27-554d-4fe4-f1e5-04a315d59ff5"
      },
      "source": [
        "from sklearn.feature_extraction.text import CountVectorizer\n",
        "vector = CountVectorizer()\n",
        "#  create BoW representation the training set\n",
        "X_train = vector.fit_transform(train['Text'])\n",
        "X_train=X_train.toarray()\n",
        "train_vocabulary=vector.get_feature_names()\n",
        "print(f\" The number of instances in the BBC train set are represented : {len(X_train)}\")\n",
        "print(f\" The length of each vector which represent each instance in the BBC train set is : {len(X_train[1])}\")\n",
        "print(f\" Total vocabulary in the BBC train set is : {len(train_vocabulary)}\")\n",
        "print(f\"shape of X_train :{X_train.shape}\")\n"
      ],
      "execution_count": null,
      "outputs": [
        {
          "output_type": "stream",
          "name": "stdout",
          "text": [
            " The number of instances in the BBC train set are represented : 1556\n",
            " The length of each vector which represent each instance in the BBC train set is : 25293\n",
            " Total vocabulary in the BBC train set is : 25293\n",
            "shape of X_train :(1556, 25293)\n"
          ]
        }
      ]
    },
    {
      "cell_type": "code",
      "metadata": {
        "id": "vK4_Gm6EWh68"
      },
      "source": [
        ""
      ],
      "execution_count": null,
      "outputs": []
    },
    {
      "cell_type": "code",
      "metadata": {
        "colab": {
          "base_uri": "https://localhost:8080/"
        },
        "id": "24vcqPmNubM1",
        "outputId": "d14ea49e-4f98-46cb-8dd3-e742020e4c7d"
      },
      "source": [
        "#  create BoW representation for the test set using the training vocabulary\n",
        "X_test = vector.transform(test['Text'])\n",
        "X_test=X_test.toarray()\n",
        "# test_vocabulary=vector.get_feature_names()\n",
        "print(f\" The number of instances in the BBC test set are represented : {len(X_test)}\")\n",
        "print(f\" The length of each vector which represent each instance in the BBC test set is : {len(X_test[1])}\")\n",
        "print(f\" Total vocabulary in the BBC test set is : {len(test_vocabulary)}\")\n",
        "print(f\"shape of X_train :{X_test.shape}\")"
      ],
      "execution_count": null,
      "outputs": [
        {
          "output_type": "stream",
          "name": "stdout",
          "text": [
            " The number of instances in the BBC test set are represented : 668\n",
            " The length of each vector which represent each instance in the BBC test set is : 25293\n",
            " Total vocabulary in the BBC test set is : 17739\n",
            "shape of X_train :(668, 25293)\n"
          ]
        }
      ]
    },
    {
      "cell_type": "markdown",
      "metadata": {
        "id": "U-J9Tw2SHOm_"
      },
      "source": [
        "### **3. Prepare Outputs/Labels**\n",
        "\n",
        "**Instructions:**\n",
        "* Check to see how the outputs are in the data\n",
        "* If categories are non-numeric, then encode them as numeric labels (similar to what was discussed in the tutorial demonstration)\n",
        "* You will have to perform encoding for targets in both train and test sets\n",
        "* Make sure to perform the same encoding that was done for the targets in the training set when encoding the targets in the test set."
      ]
    },
    {
      "cell_type": "code",
      "metadata": {
        "colab": {
          "base_uri": "https://localhost:8080/"
        },
        "id": "O3ieCq4JHagT",
        "outputId": "528a4cf9-141f-45e6-b8eb-f1749f0b94ef"
      },
      "source": [
        "Y_train=train['Category']\n",
        "Y_train"
      ],
      "execution_count": null,
      "outputs": [
        {
          "output_type": "execute_result",
          "data": {
            "text/plain": [
              "2124            sport\n",
              "1723            sport\n",
              "712     entertainment\n",
              "485          business\n",
              "171          business\n",
              "            ...      \n",
              "1834            sport\n",
              "1672         politics\n",
              "1283             tech\n",
              "834     entertainment\n",
              "1855            sport\n",
              "Name: Category, Length: 1556, dtype: object"
            ]
          },
          "metadata": {},
          "execution_count": 195
        }
      ]
    },
    {
      "cell_type": "code",
      "metadata": {
        "colab": {
          "base_uri": "https://localhost:8080/"
        },
        "id": "iaRWz5ZSIscu",
        "outputId": "89cd8610-da17-4109-e414-9a6f2ff36353"
      },
      "source": [
        "from sklearn import preprocessing\n",
        "#fit train label into LabelEncoder()\n",
        "enc1 = preprocessing.LabelEncoder()\n",
        "enc1.fit(Y_train)\n",
        "print(f\"List of all categories: {list(enc1.classes_)}\")\n",
        "\n"
      ],
      "execution_count": null,
      "outputs": [
        {
          "output_type": "stream",
          "name": "stdout",
          "text": [
            "List of all categories: ['business', 'entertainment', 'politics', 'sport', 'tech']\n"
          ]
        }
      ]
    },
    {
      "cell_type": "code",
      "metadata": {
        "colab": {
          "base_uri": "https://localhost:8080/"
        },
        "id": "vEiz5pVei0oO",
        "outputId": "782bff78-44ce-405d-8172-0bbbb518b616"
      },
      "source": [
        "enc1.inverse_transform([0,1,2,3,4])"
      ],
      "execution_count": null,
      "outputs": [
        {
          "output_type": "execute_result",
          "data": {
            "text/plain": [
              "array(['business', 'entertainment', 'politics', 'sport', 'tech'],\n",
              "      dtype=object)"
            ]
          },
          "metadata": {},
          "execution_count": 230
        }
      ]
    },
    {
      "cell_type": "code",
      "metadata": {
        "colab": {
          "base_uri": "https://localhost:8080/"
        },
        "id": "zYDeGbMbf30b",
        "outputId": "4ccfbfd1-8bec-4a17-a80c-9ad5216b00a5"
      },
      "source": [
        "d={}\n",
        "v=enc1.transform(['business', 'entertainment', 'politics', 'sport', 'tech'])\n",
        "k=list(enc1.classes_)\n",
        "for k1,v1 in zip(k,v):\n",
        "  d[k1]=v1\n",
        "d"
      ],
      "execution_count": null,
      "outputs": [
        {
          "output_type": "execute_result",
          "data": {
            "text/plain": [
              "{'business': 0, 'entertainment': 1, 'politics': 2, 'sport': 3, 'tech': 4}"
            ]
          },
          "metadata": {},
          "execution_count": 229
        }
      ]
    },
    {
      "cell_type": "code",
      "metadata": {
        "colab": {
          "base_uri": "https://localhost:8080/"
        },
        "id": "e7jgcxfxSV8x",
        "outputId": "777deb3d-c9ee-4f06-92be-71ca82653576"
      },
      "source": [
        "# encode the train label as numerical labels\n",
        "Y_train_enc= enc1.transform(Y_train)\n",
        "print(f\"Y_train encoded labels: {Y_train_enc}\")"
      ],
      "execution_count": null,
      "outputs": [
        {
          "output_type": "stream",
          "name": "stdout",
          "text": [
            "Y_train encoded labels: [3 3 1 0 0 3 3 2 1 3 4 0 2 2 0 0 1 4 1 0 4 1 3 2 4 2 4 1 0 1 1 0 0 1 0 3 4\n",
            " 3 0 4 2 4 3 0 1 3 1 2 2 2 2 4 4 2 3 3 2 1 4 2 1 4 4 2 3 2 4 2 1 2 2 3 0 4\n",
            " 3 0 3 3 0 3 3 3 3 2 4 4 2 0 3 0 4 1 0 2 2 3 3 0 3 1 1 2 0 4 0 1 0 2 2 4 4\n",
            " 1 0 4 3 3 1 0 3 0 2 2 0 3 1 0 3 4 2 2 2 2 3 1 3 3 3 2 3 2 2 1 3 1 4 1 4 1\n",
            " 0 4 3 3 0 3 3 2 1 2 3 4 0 2 0 0 4 4 0 3 1 4 0 3 3 2 0 3 3 0 2 3 3 4 2 1 4\n",
            " 4 1 4 3 2 2 0 4 4 3 2 0 1 1 0 1 3 2 0 4 2 0 4 1 3 0 1 0 1 0 2 3 0 4 2 3 0\n",
            " 2 0 4 0 1 4 1 2 3 0 4 0 0 2 0 0 0 4 0 1 3 3 1 3 4 2 0 3 3 4 4 1 1 1 4 0 2\n",
            " 1 2 0 0 2 1 2 2 3 3 0 4 4 3 1 3 0 2 3 0 4 4 4 2 0 0 0 0 4 1 3 3 4 3 1 4 1\n",
            " 0 3 2 3 4 3 4 3 1 3 1 2 3 2 3 0 1 4 2 4 1 1 2 3 0 0 2 0 0 3 4 0 4 4 0 4 2\n",
            " 0 4 4 0 2 2 2 0 2 3 4 3 0 1 2 2 2 2 0 3 0 0 1 3 1 3 4 1 4 2 4 2 0 2 0 0 1\n",
            " 0 2 4 4 4 0 4 3 3 4 0 3 0 3 1 1 0 3 2 2 3 0 4 0 0 0 3 2 3 3 0 1 2 1 3 4 4\n",
            " 0 1 2 1 0 2 3 2 3 2 4 0 1 0 4 2 1 4 2 0 2 2 1 0 1 0 1 3 0 4 1 1 1 0 0 3 0\n",
            " 3 2 0 4 2 4 2 1 1 0 3 0 3 2 1 1 2 1 4 3 0 0 0 0 3 3 3 1 1 2 2 3 1 4 3 0 3\n",
            " 1 4 4 1 1 3 1 3 3 2 2 1 2 2 0 2 3 2 2 2 3 3 2 4 0 3 1 3 4 1 1 0 0 1 1 3 0\n",
            " 2 0 2 3 2 1 0 2 4 2 2 4 1 0 2 4 3 2 4 0 3 4 3 0 4 0 0 3 2 3 4 4 2 2 3 4 4\n",
            " 3 1 2 4 2 3 4 1 0 3 0 4 3 0 2 0 3 4 2 0 1 1 2 2 3 3 2 4 1 4 3 4 0 2 3 1 0\n",
            " 2 0 4 3 3 0 4 4 1 4 0 1 2 4 1 1 1 3 1 0 0 0 2 4 0 0 4 0 1 0 1 4 1 3 0 0 3\n",
            " 1 1 0 0 0 0 2 3 0 4 0 3 4 1 2 2 2 0 0 3 2 4 1 0 3 3 2 4 2 3 4 1 0 2 3 3 3\n",
            " 0 3 2 3 3 0 3 3 1 1 1 0 4 1 2 4 1 4 1 2 2 4 3 3 2 1 0 3 0 0 4 0 3 4 0 2 4\n",
            " 3 0 3 3 3 2 0 0 3 1 2 4 0 2 0 2 0 4 3 0 0 1 3 0 3 2 0 2 0 2 0 1 3 1 3 0 3\n",
            " 0 0 0 4 3 0 2 0 0 1 2 2 1 1 3 3 4 2 3 3 0 1 4 0 3 4 4 3 0 1 1 1 1 4 4 4 1\n",
            " 4 2 0 3 3 0 4 0 3 4 1 0 1 3 3 1 0 0 0 3 2 1 0 3 2 4 3 0 2 4 0 1 2 0 0 1 0\n",
            " 1 3 0 3 1 1 4 4 0 2 4 1 4 0 2 0 1 3 0 0 1 0 2 0 2 3 3 4 3 4 0 2 2 1 0 4 4\n",
            " 4 1 0 3 4 1 2 3 0 0 4 1 1 3 0 4 4 3 4 4 3 3 2 0 3 2 2 0 2 4 2 4 4 4 4 0 2\n",
            " 0 0 1 1 0 0 3 0 0 0 3 4 4 0 1 2 2 3 1 0 3 2 0 4 1 3 3 1 3 2 4 3 0 0 2 3 3\n",
            " 1 4 1 0 4 4 2 3 3 4 3 3 2 3 2 2 3 1 3 1 1 1 3 4 4 1 0 0 4 1 2 3 3 4 2 4 4\n",
            " 3 0 3 4 2 3 2 4 0 2 2 1 2 2 0 3 3 2 4 4 1 4 4 0 0 4 0 0 4 4 2 2 1 4 1 0 2\n",
            " 4 2 1 4 1 2 3 3 0 3 0 0 4 0 0 3 3 2 3 4 2 4 1 3 0 2 1 0 3 4 0 2 1 3 4 4 4\n",
            " 3 4 0 2 1 1 2 1 2 1 3 1 1 2 2 0 2 2 0 4 1 1 3 1 2 3 4 3 0 2 2 0 3 3 2 3 2\n",
            " 0 2 0 0 4 4 3 4 1 2 4 2 0 2 1 4 1 2 0 4 1 4 1 2 2 3 1 2 0 0 3 0 3 0 3 3 2\n",
            " 3 0 0 1 1 1 3 1 0 2 2 4 0 0 0 3 3 3 0 4 4 3 0 1 1 3 3 0 1 0 4 0 0 0 4 0 0\n",
            " 1 3 0 0 2 2 2 1 1 2 1 2 3 2 3 0 2 2 3 1 0 2 3 0 0 2 4 2 0 2 0 0 1 3 2 4 0\n",
            " 2 2 1 4 3 2 3 2 0 2 2 3 3 3 4 1 3 2 3 2 3 0 0 3 0 4 4 1 0 2 1 0 0 3 1 1 4\n",
            " 1 0 2 3 4 4 0 0 0 3 1 1 0 3 1 0 4 3 4 4 1 3 3 3 2 1 3 3 4 3 0 0 0 3 4 4 1\n",
            " 0 3 2 4 3 3 1 2 0 2 2 3 0 0 1 3 0 4 1 2 2 0 1 1 3 3 2 2 2 0 0 1 1 2 3 0 0\n",
            " 1 1 0 0 2 0 3 0 1 0 3 0 1 0 4 2 0 0 0 4 2 2 4 4 2 0 1 4 3 0 1 3 4 0 3 1 0\n",
            " 2 3 3 4 2 3 2 4 2 1 2 3 3 2 4 1 2 4 4 4 1 2 0 1 1 2 4 3 0 0 0 1 0 3 2 0 0\n",
            " 1 0 4 0 3 4 1 0 0 4 3 1 3 0 1 3 4 2 3 1 0 3 3 1 1 4 0 2 1 4 2 2 1 4 4 2 4\n",
            " 3 1 3 4 0 0 4 0 0 1 4 0 2 3 1 1 1 0 0 3 3 3 4 0 1 0 1 1 2 1 4 0 2 3 2 1 1\n",
            " 4 1 4 0 3 3 4 3 2 4 4 2 1 2 4 3 3 3 3 0 0 4 2 3 4 1 3 2 1 3 3 3 3 4 3 2 4\n",
            " 3 2 0 0 1 0 3 3 1 3 0 3 4 0 4 4 4 4 1 1 1 3 2 2 4 2 4 3 3 1 2 0 2 3 1 2 2\n",
            " 1 1 0 4 1 4 4 3 1 0 0 2 3 0 2 1 1 1 4 3 0 4 2 0 1 4 2 4 2 4 0 0 2 0 3 2 4\n",
            " 1 3]\n"
          ]
        }
      ]
    },
    {
      "cell_type": "code",
      "metadata": {
        "colab": {
          "base_uri": "https://localhost:8080/"
        },
        "id": "D01rt0FXRQVa",
        "outputId": "ae3e0d7c-d1c2-49ee-f42e-106113ecb3dd"
      },
      "source": [
        "Y_test=test['Category']\n",
        "Y_test"
      ],
      "execution_count": null,
      "outputs": [
        {
          "output_type": "execute_result",
          "data": {
            "text/plain": [
              "225          business\n",
              "2081            sport\n",
              "1305         politics\n",
              "1374         politics\n",
              "1139             tech\n",
              "            ...      \n",
              "1731            sport\n",
              "1930            sport\n",
              "1848            sport\n",
              "836     entertainment\n",
              "441          business\n",
              "Name: Category, Length: 668, dtype: object"
            ]
          },
          "metadata": {},
          "execution_count": 198
        }
      ]
    },
    {
      "cell_type": "code",
      "metadata": {
        "colab": {
          "base_uri": "https://localhost:8080/"
        },
        "id": "q8DuBQ5hRJBv",
        "outputId": "f1aa21e9-b6ab-4777-f175-10d7c18e4af4"
      },
      "source": [
        "#fit test label into LabelEncoder()\n",
        "enc2 = preprocessing.LabelEncoder()\n",
        "enc2.fit(Y_test)\n",
        "print(f\"Unique categories: {list(enc2.classes_)}\")\n"
      ],
      "execution_count": null,
      "outputs": [
        {
          "output_type": "stream",
          "name": "stdout",
          "text": [
            "Unique categories: ['business', 'entertainment', 'politics', 'sport', 'tech']\n"
          ]
        }
      ]
    },
    {
      "cell_type": "code",
      "metadata": {
        "id": "-p4Id8bLSdPx",
        "colab": {
          "base_uri": "https://localhost:8080/"
        },
        "outputId": "5b750cd1-fdf5-4575-9003-2737137690b8"
      },
      "source": [
        "# encode the test label  as numerical labels\n",
        "Y_test_enc= enc2.transform(Y_test)\n",
        "print(f\"Y_test encoded labels: {Y_test_enc}\")"
      ],
      "execution_count": null,
      "outputs": [
        {
          "output_type": "stream",
          "name": "stdout",
          "text": [
            "Y_test encoded labels: [0 3 2 2 4 3 3 2 3 0 0 3 4 4 3 0 2 0 4 3 3 3 4 2 4 3 0 4 0 2 0 4 1 0 2 3 2\n",
            " 0 4 0 1 3 3 4 3 4 3 2 0 1 3 3 2 4 2 0 1 1 0 2 3 2 3 3 0 1 3 2 1 3 2 1 4 0\n",
            " 0 4 2 0 3 3 1 3 0 3 4 1 3 0 4 3 1 1 1 4 4 3 2 3 0 3 0 4 4 4 4 0 4 0 3 3 4\n",
            " 3 1 4 4 2 4 0 1 1 4 2 1 3 3 3 1 3 2 2 4 1 0 3 0 0 0 4 3 3 1 0 4 0 0 0 3 1\n",
            " 4 4 2 2 3 3 0 3 2 0 4 2 3 2 0 0 1 4 2 2 4 4 1 2 2 4 3 2 3 1 0 2 1 0 2 3 0\n",
            " 0 4 2 4 3 2 3 4 1 2 3 0 0 1 2 2 2 2 2 3 3 3 0 3 3 0 0 3 3 1 3 0 2 4 0 2 2\n",
            " 2 3 0 0 1 2 0 3 3 4 0 0 4 4 1 0 3 3 0 3 3 4 0 1 1 1 4 0 3 1 3 0 4 1 3 3 0\n",
            " 4 0 4 3 3 2 3 2 1 2 4 2 2 3 3 3 1 3 0 2 4 0 2 2 4 4 0 1 2 3 4 1 2 4 2 3 4\n",
            " 3 0 2 4 4 2 3 3 2 1 1 1 3 3 0 3 1 2 2 3 1 0 2 3 0 1 4 3 1 0 3 4 0 3 3 3 2\n",
            " 0 4 3 4 2 3 4 1 2 0 1 3 3 1 1 3 4 0 3 1 0 1 1 0 1 2 3 2 1 0 1 4 4 4 4 0 4\n",
            " 1 3 0 4 0 1 2 2 2 3 2 0 0 1 1 4 3 2 2 3 4 4 4 2 1 1 3 3 0 3 4 0 1 3 3 2 0\n",
            " 2 0 4 3 3 1 3 1 3 3 0 2 1 4 0 0 0 3 4 2 0 3 1 1 0 3 0 3 1 2 0 2 0 0 1 0 1\n",
            " 1 3 1 4 3 3 3 0 2 3 4 0 2 1 2 0 0 0 0 4 4 1 0 0 4 0 2 3 0 1 0 3 1 4 3 0 4\n",
            " 1 0 1 1 0 4 3 4 0 4 3 3 3 0 1 3 3 4 3 0 2 3 0 1 4 4 4 2 1 0 1 1 4 0 3 4 1\n",
            " 2 0 0 3 1 0 2 0 1 0 2 2 2 3 4 1 0 3 4 0 3 4 2 2 2 3 0 4 1 1 3 1 1 3 2 3 1\n",
            " 4 0 4 3 3 2 3 4 3 0 4 0 1 1 3 4 1 2 3 2 2 1 1 3 1 0 3 2 1 4 1 0 0 2 0 1 3\n",
            " 2 4 2 4 1 4 1 3 4 2 3 4 3 3 2 4 1 4 3 0 1 0 4 1 3 3 2 2 1 4 2 2 4 3 2 3 4\n",
            " 2 0 0 0 4 2 1 3 4 0 4 3 2 0 4 4 0 0 4 0 3 2 0 2 3 0 1 2 3 3 2 0 3 3 3 3 3\n",
            " 1 0]\n"
          ]
        }
      ]
    },
    {
      "cell_type": "markdown",
      "metadata": {
        "id": "19-XTvntztQv"
      },
      "source": [
        "### **4. Model Training and Evaluation**\n",
        "\n",
        "**Question 5: Train a Naive Bayes model using the training set. Once the model is trained, apply the model on the test set and evaluate the performance of the model by calculating accuracy and generating the confusion matrix.**\n",
        "\n",
        "**Instructions:**\n",
        "* Again, this section is very similar to what was demonstrated in the tutorial section.\n",
        "* Create a Multinomial Naive Bayes classifier (model).\n",
        "* Train the model using the data in the training set.\n",
        "* Apply the model on the test set data to get the predictions made by the model.\n",
        "* Once the predictions are generated, use ```sklearn.metrics.accuracy_score()``` and ```sklearn.metrics.confusion_matrix()``` as metrics to report your model performance. "
      ]
    },
    {
      "cell_type": "code",
      "metadata": {
        "colab": {
          "base_uri": "https://localhost:8080/"
        },
        "id": "Li49LAk46dNp",
        "outputId": "54956cff-9f38-4312-d20a-d53cf96ebe56"
      },
      "source": [
        "Y_train_enc"
      ],
      "execution_count": null,
      "outputs": [
        {
          "output_type": "execute_result",
          "data": {
            "text/plain": [
              "array([3, 3, 1, 0, 0, 3, 3, 2, 1, 3, 4, 0, 2, 2, 0, 0, 1, 4, 1, 0, 4, 1,\n",
              "       3, 2, 4, 2, 4, 1, 0, 1, 1, 0, 0, 1, 0, 3, 4, 3, 0, 4, 2, 4, 3, 0,\n",
              "       1, 3, 1, 2, 2, 2, 2, 4, 4, 2, 3, 3, 2, 1, 4, 2, 1, 4, 4, 2, 3, 2,\n",
              "       4, 2, 1, 2, 2, 3, 0, 4, 3, 0, 3, 3, 0, 3, 3, 3, 3, 2, 4, 4, 2, 0,\n",
              "       3, 0, 4, 1, 0, 2, 2, 3, 3, 0, 3, 1, 1, 2, 0, 4, 0, 1, 0, 2, 2, 4,\n",
              "       4, 1, 0, 4, 3, 3, 1, 0, 3, 0, 2, 2, 0, 3, 1, 0, 3, 4, 2, 2, 2, 2,\n",
              "       3, 1, 3, 3, 3, 2, 3, 2, 2, 1, 3, 1, 4, 1, 4, 1, 0, 4, 3, 3, 0, 3,\n",
              "       3, 2, 1, 2, 3, 4, 0, 2, 0, 0, 4, 4, 0, 3, 1, 4, 0, 3, 3, 2, 0, 3,\n",
              "       3, 0, 2, 3, 3, 4, 2, 1, 4, 4, 1, 4, 3, 2, 2, 0, 4, 4, 3, 2, 0, 1,\n",
              "       1, 0, 1, 3, 2, 0, 4, 2, 0, 4, 1, 3, 0, 1, 0, 1, 0, 2, 3, 0, 4, 2,\n",
              "       3, 0, 2, 0, 4, 0, 1, 4, 1, 2, 3, 0, 4, 0, 0, 2, 0, 0, 0, 4, 0, 1,\n",
              "       3, 3, 1, 3, 4, 2, 0, 3, 3, 4, 4, 1, 1, 1, 4, 0, 2, 1, 2, 0, 0, 2,\n",
              "       1, 2, 2, 3, 3, 0, 4, 4, 3, 1, 3, 0, 2, 3, 0, 4, 4, 4, 2, 0, 0, 0,\n",
              "       0, 4, 1, 3, 3, 4, 3, 1, 4, 1, 0, 3, 2, 3, 4, 3, 4, 3, 1, 3, 1, 2,\n",
              "       3, 2, 3, 0, 1, 4, 2, 4, 1, 1, 2, 3, 0, 0, 2, 0, 0, 3, 4, 0, 4, 4,\n",
              "       0, 4, 2, 0, 4, 4, 0, 2, 2, 2, 0, 2, 3, 4, 3, 0, 1, 2, 2, 2, 2, 0,\n",
              "       3, 0, 0, 1, 3, 1, 3, 4, 1, 4, 2, 4, 2, 0, 2, 0, 0, 1, 0, 2, 4, 4,\n",
              "       4, 0, 4, 3, 3, 4, 0, 3, 0, 3, 1, 1, 0, 3, 2, 2, 3, 0, 4, 0, 0, 0,\n",
              "       3, 2, 3, 3, 0, 1, 2, 1, 3, 4, 4, 0, 1, 2, 1, 0, 2, 3, 2, 3, 2, 4,\n",
              "       0, 1, 0, 4, 2, 1, 4, 2, 0, 2, 2, 1, 0, 1, 0, 1, 3, 0, 4, 1, 1, 1,\n",
              "       0, 0, 3, 0, 3, 2, 0, 4, 2, 4, 2, 1, 1, 0, 3, 0, 3, 2, 1, 1, 2, 1,\n",
              "       4, 3, 0, 0, 0, 0, 3, 3, 3, 1, 1, 2, 2, 3, 1, 4, 3, 0, 3, 1, 4, 4,\n",
              "       1, 1, 3, 1, 3, 3, 2, 2, 1, 2, 2, 0, 2, 3, 2, 2, 2, 3, 3, 2, 4, 0,\n",
              "       3, 1, 3, 4, 1, 1, 0, 0, 1, 1, 3, 0, 2, 0, 2, 3, 2, 1, 0, 2, 4, 2,\n",
              "       2, 4, 1, 0, 2, 4, 3, 2, 4, 0, 3, 4, 3, 0, 4, 0, 0, 3, 2, 3, 4, 4,\n",
              "       2, 2, 3, 4, 4, 3, 1, 2, 4, 2, 3, 4, 1, 0, 3, 0, 4, 3, 0, 2, 0, 3,\n",
              "       4, 2, 0, 1, 1, 2, 2, 3, 3, 2, 4, 1, 4, 3, 4, 0, 2, 3, 1, 0, 2, 0,\n",
              "       4, 3, 3, 0, 4, 4, 1, 4, 0, 1, 2, 4, 1, 1, 1, 3, 1, 0, 0, 0, 2, 4,\n",
              "       0, 0, 4, 0, 1, 0, 1, 4, 1, 3, 0, 0, 3, 1, 1, 0, 0, 0, 0, 2, 3, 0,\n",
              "       4, 0, 3, 4, 1, 2, 2, 2, 0, 0, 3, 2, 4, 1, 0, 3, 3, 2, 4, 2, 3, 4,\n",
              "       1, 0, 2, 3, 3, 3, 0, 3, 2, 3, 3, 0, 3, 3, 1, 1, 1, 0, 4, 1, 2, 4,\n",
              "       1, 4, 1, 2, 2, 4, 3, 3, 2, 1, 0, 3, 0, 0, 4, 0, 3, 4, 0, 2, 4, 3,\n",
              "       0, 3, 3, 3, 2, 0, 0, 3, 1, 2, 4, 0, 2, 0, 2, 0, 4, 3, 0, 0, 1, 3,\n",
              "       0, 3, 2, 0, 2, 0, 2, 0, 1, 3, 1, 3, 0, 3, 0, 0, 0, 4, 3, 0, 2, 0,\n",
              "       0, 1, 2, 2, 1, 1, 3, 3, 4, 2, 3, 3, 0, 1, 4, 0, 3, 4, 4, 3, 0, 1,\n",
              "       1, 1, 1, 4, 4, 4, 1, 4, 2, 0, 3, 3, 0, 4, 0, 3, 4, 1, 0, 1, 3, 3,\n",
              "       1, 0, 0, 0, 3, 2, 1, 0, 3, 2, 4, 3, 0, 2, 4, 0, 1, 2, 0, 0, 1, 0,\n",
              "       1, 3, 0, 3, 1, 1, 4, 4, 0, 2, 4, 1, 4, 0, 2, 0, 1, 3, 0, 0, 1, 0,\n",
              "       2, 0, 2, 3, 3, 4, 3, 4, 0, 2, 2, 1, 0, 4, 4, 4, 1, 0, 3, 4, 1, 2,\n",
              "       3, 0, 0, 4, 1, 1, 3, 0, 4, 4, 3, 4, 4, 3, 3, 2, 0, 3, 2, 2, 0, 2,\n",
              "       4, 2, 4, 4, 4, 4, 0, 2, 0, 0, 1, 1, 0, 0, 3, 0, 0, 0, 3, 4, 4, 0,\n",
              "       1, 2, 2, 3, 1, 0, 3, 2, 0, 4, 1, 3, 3, 1, 3, 2, 4, 3, 0, 0, 2, 3,\n",
              "       3, 1, 4, 1, 0, 4, 4, 2, 3, 3, 4, 3, 3, 2, 3, 2, 2, 3, 1, 3, 1, 1,\n",
              "       1, 3, 4, 4, 1, 0, 0, 4, 1, 2, 3, 3, 4, 2, 4, 4, 3, 0, 3, 4, 2, 3,\n",
              "       2, 4, 0, 2, 2, 1, 2, 2, 0, 3, 3, 2, 4, 4, 1, 4, 4, 0, 0, 4, 0, 0,\n",
              "       4, 4, 2, 2, 1, 4, 1, 0, 2, 4, 2, 1, 4, 1, 2, 3, 3, 0, 3, 0, 0, 4,\n",
              "       0, 0, 3, 3, 2, 3, 4, 2, 4, 1, 3, 0, 2, 1, 0, 3, 4, 0, 2, 1, 3, 4,\n",
              "       4, 4, 3, 4, 0, 2, 1, 1, 2, 1, 2, 1, 3, 1, 1, 2, 2, 0, 2, 2, 0, 4,\n",
              "       1, 1, 3, 1, 2, 3, 4, 3, 0, 2, 2, 0, 3, 3, 2, 3, 2, 0, 2, 0, 0, 4,\n",
              "       4, 3, 4, 1, 2, 4, 2, 0, 2, 1, 4, 1, 2, 0, 4, 1, 4, 1, 2, 2, 3, 1,\n",
              "       2, 0, 0, 3, 0, 3, 0, 3, 3, 2, 3, 0, 0, 1, 1, 1, 3, 1, 0, 2, 2, 4,\n",
              "       0, 0, 0, 3, 3, 3, 0, 4, 4, 3, 0, 1, 1, 3, 3, 0, 1, 0, 4, 0, 0, 0,\n",
              "       4, 0, 0, 1, 3, 0, 0, 2, 2, 2, 1, 1, 2, 1, 2, 3, 2, 3, 0, 2, 2, 3,\n",
              "       1, 0, 2, 3, 0, 0, 2, 4, 2, 0, 2, 0, 0, 1, 3, 2, 4, 0, 2, 2, 1, 4,\n",
              "       3, 2, 3, 2, 0, 2, 2, 3, 3, 3, 4, 1, 3, 2, 3, 2, 3, 0, 0, 3, 0, 4,\n",
              "       4, 1, 0, 2, 1, 0, 0, 3, 1, 1, 4, 1, 0, 2, 3, 4, 4, 0, 0, 0, 3, 1,\n",
              "       1, 0, 3, 1, 0, 4, 3, 4, 4, 1, 3, 3, 3, 2, 1, 3, 3, 4, 3, 0, 0, 0,\n",
              "       3, 4, 4, 1, 0, 3, 2, 4, 3, 3, 1, 2, 0, 2, 2, 3, 0, 0, 1, 3, 0, 4,\n",
              "       1, 2, 2, 0, 1, 1, 3, 3, 2, 2, 2, 0, 0, 1, 1, 2, 3, 0, 0, 1, 1, 0,\n",
              "       0, 2, 0, 3, 0, 1, 0, 3, 0, 1, 0, 4, 2, 0, 0, 0, 4, 2, 2, 4, 4, 2,\n",
              "       0, 1, 4, 3, 0, 1, 3, 4, 0, 3, 1, 0, 2, 3, 3, 4, 2, 3, 2, 4, 2, 1,\n",
              "       2, 3, 3, 2, 4, 1, 2, 4, 4, 4, 1, 2, 0, 1, 1, 2, 4, 3, 0, 0, 0, 1,\n",
              "       0, 3, 2, 0, 0, 1, 0, 4, 0, 3, 4, 1, 0, 0, 4, 3, 1, 3, 0, 1, 3, 4,\n",
              "       2, 3, 1, 0, 3, 3, 1, 1, 4, 0, 2, 1, 4, 2, 2, 1, 4, 4, 2, 4, 3, 1,\n",
              "       3, 4, 0, 0, 4, 0, 0, 1, 4, 0, 2, 3, 1, 1, 1, 0, 0, 3, 3, 3, 4, 0,\n",
              "       1, 0, 1, 1, 2, 1, 4, 0, 2, 3, 2, 1, 1, 4, 1, 4, 0, 3, 3, 4, 3, 2,\n",
              "       4, 4, 2, 1, 2, 4, 3, 3, 3, 3, 0, 0, 4, 2, 3, 4, 1, 3, 2, 1, 3, 3,\n",
              "       3, 3, 4, 3, 2, 4, 3, 2, 0, 0, 1, 0, 3, 3, 1, 3, 0, 3, 4, 0, 4, 4,\n",
              "       4, 4, 1, 1, 1, 3, 2, 2, 4, 2, 4, 3, 3, 1, 2, 0, 2, 3, 1, 2, 2, 1,\n",
              "       1, 0, 4, 1, 4, 4, 3, 1, 0, 0, 2, 3, 0, 2, 1, 1, 1, 4, 3, 0, 4, 2,\n",
              "       0, 1, 4, 2, 4, 2, 4, 0, 0, 2, 0, 3, 2, 4, 1, 3])"
            ]
          },
          "metadata": {},
          "execution_count": 201
        }
      ]
    },
    {
      "cell_type": "code",
      "metadata": {
        "colab": {
          "base_uri": "https://localhost:8080/"
        },
        "id": "WG5r7nFg1BK0",
        "outputId": "1aa10a9a-e6c2-4a72-c602-19f1167143f0"
      },
      "source": [
        "#  BBC dataset is balance and the input is  represented as word vector counts. \n",
        "#Thus,Multinomial Naive Bayes model is suitable.\n",
        "from sklearn.naive_bayes import MultinomialNB\n",
        "MNB_model = MultinomialNB()\n",
        "MNB_model.fit(X_train, Y_train_enc)"
      ],
      "execution_count": null,
      "outputs": [
        {
          "output_type": "execute_result",
          "data": {
            "text/plain": [
              "MultinomialNB(alpha=1.0, class_prior=None, fit_prior=True)"
            ]
          },
          "metadata": {},
          "execution_count": 202
        }
      ]
    },
    {
      "cell_type": "code",
      "metadata": {
        "colab": {
          "base_uri": "https://localhost:8080/"
        },
        "id": "9rRq-loQRvrN",
        "outputId": "ed3ef724-b364-48af-c239-c37ac1e1241b"
      },
      "source": [
        "X_train.shape"
      ],
      "execution_count": null,
      "outputs": [
        {
          "output_type": "execute_result",
          "data": {
            "text/plain": [
              "(1556, 25293)"
            ]
          },
          "metadata": {},
          "execution_count": 203
        }
      ]
    },
    {
      "cell_type": "code",
      "metadata": {
        "colab": {
          "base_uri": "https://localhost:8080/"
        },
        "id": "47pYPXAARzJP",
        "outputId": "6adcb628-9de1-4350-af76-8a5d164d5de3"
      },
      "source": [
        "X_test.shape\n"
      ],
      "execution_count": null,
      "outputs": [
        {
          "output_type": "execute_result",
          "data": {
            "text/plain": [
              "(668, 25293)"
            ]
          },
          "metadata": {},
          "execution_count": 204
        }
      ]
    },
    {
      "cell_type": "code",
      "metadata": {
        "colab": {
          "base_uri": "https://localhost:8080/"
        },
        "id": "3z2lx7bS7_XJ",
        "outputId": "63ce34a5-2608-4c84-d122-bd4423c64119"
      },
      "source": [
        "Y_predict=MNB_model.predict(X_test)\n",
        "Y_predict"
      ],
      "execution_count": null,
      "outputs": [
        {
          "output_type": "execute_result",
          "data": {
            "text/plain": [
              "array([0, 3, 2, 2, 4, 3, 3, 2, 3, 0, 0, 3, 4, 4, 3, 0, 2, 0, 4, 3, 3, 3,\n",
              "       4, 2, 4, 3, 4, 4, 0, 2, 0, 4, 0, 0, 0, 3, 2, 2, 4, 0, 1, 3, 3, 4,\n",
              "       3, 4, 3, 2, 0, 1, 3, 3, 2, 4, 2, 0, 1, 1, 0, 2, 3, 2, 3, 3, 2, 1,\n",
              "       3, 2, 1, 0, 2, 1, 4, 0, 4, 4, 2, 0, 3, 3, 1, 3, 0, 3, 4, 1, 3, 0,\n",
              "       4, 3, 1, 1, 1, 4, 4, 3, 2, 3, 0, 3, 0, 4, 4, 4, 4, 0, 4, 0, 3, 3,\n",
              "       4, 3, 1, 4, 4, 2, 4, 2, 1, 1, 4, 2, 1, 3, 3, 3, 1, 3, 2, 2, 4, 1,\n",
              "       0, 3, 0, 0, 0, 4, 3, 3, 1, 0, 4, 0, 4, 0, 3, 4, 4, 4, 2, 2, 3, 3,\n",
              "       0, 3, 2, 0, 4, 2, 3, 2, 0, 0, 1, 4, 2, 2, 4, 4, 1, 2, 2, 4, 3, 2,\n",
              "       3, 1, 0, 2, 1, 0, 2, 3, 0, 0, 4, 2, 4, 3, 2, 3, 4, 1, 2, 3, 0, 0,\n",
              "       1, 2, 2, 2, 2, 2, 3, 3, 3, 0, 3, 3, 0, 0, 3, 3, 1, 3, 0, 2, 4, 1,\n",
              "       2, 2, 2, 3, 0, 0, 4, 2, 0, 3, 3, 4, 0, 0, 4, 4, 1, 0, 3, 3, 0, 3,\n",
              "       3, 4, 0, 1, 1, 1, 4, 0, 3, 4, 3, 0, 4, 1, 3, 3, 0, 4, 0, 4, 3, 3,\n",
              "       2, 3, 2, 1, 2, 4, 2, 2, 3, 3, 3, 0, 3, 0, 2, 4, 0, 2, 2, 4, 4, 0,\n",
              "       1, 2, 3, 4, 1, 2, 4, 2, 3, 4, 3, 0, 2, 4, 4, 2, 3, 3, 2, 1, 1, 1,\n",
              "       3, 3, 0, 3, 1, 2, 2, 3, 1, 0, 2, 3, 0, 1, 4, 3, 1, 0, 3, 4, 0, 3,\n",
              "       3, 3, 2, 4, 4, 3, 4, 2, 3, 4, 4, 2, 0, 1, 3, 3, 1, 1, 3, 4, 0, 3,\n",
              "       1, 0, 1, 1, 0, 1, 2, 3, 2, 1, 0, 1, 4, 4, 4, 4, 0, 4, 1, 3, 0, 4,\n",
              "       0, 1, 2, 2, 2, 3, 2, 0, 0, 1, 2, 4, 3, 2, 2, 3, 4, 4, 4, 2, 1, 1,\n",
              "       3, 3, 0, 3, 4, 0, 1, 3, 3, 2, 0, 2, 0, 4, 3, 3, 1, 3, 1, 3, 3, 0,\n",
              "       2, 1, 4, 0, 0, 0, 3, 4, 2, 0, 3, 1, 1, 4, 3, 0, 3, 4, 2, 0, 2, 0,\n",
              "       0, 1, 0, 1, 1, 3, 1, 4, 3, 3, 3, 0, 2, 3, 4, 0, 2, 1, 2, 4, 0, 0,\n",
              "       0, 4, 4, 1, 0, 0, 4, 0, 2, 3, 0, 1, 0, 3, 1, 4, 3, 0, 4, 1, 0, 1,\n",
              "       1, 0, 4, 3, 4, 0, 4, 3, 3, 3, 4, 1, 3, 3, 4, 3, 0, 2, 3, 0, 2, 4,\n",
              "       4, 4, 2, 1, 0, 1, 2, 4, 0, 3, 4, 1, 2, 0, 0, 3, 1, 0, 2, 0, 1, 0,\n",
              "       2, 2, 2, 3, 4, 1, 0, 3, 4, 0, 3, 4, 2, 2, 2, 3, 0, 4, 1, 1, 3, 1,\n",
              "       1, 3, 2, 3, 1, 4, 0, 4, 3, 3, 2, 2, 4, 3, 0, 4, 0, 1, 1, 3, 4, 1,\n",
              "       2, 3, 2, 2, 1, 1, 3, 1, 0, 3, 2, 1, 4, 1, 4, 0, 2, 0, 1, 3, 2, 4,\n",
              "       2, 4, 1, 4, 1, 3, 4, 2, 3, 4, 3, 3, 2, 4, 1, 4, 3, 4, 1, 0, 4, 0,\n",
              "       3, 3, 2, 2, 1, 4, 2, 2, 4, 3, 2, 3, 4, 2, 0, 0, 0, 4, 2, 1, 3, 4,\n",
              "       2, 4, 3, 2, 0, 4, 4, 0, 0, 4, 0, 3, 2, 0, 2, 3, 0, 1, 2, 3, 3, 2,\n",
              "       0, 3, 3, 3, 3, 3, 1, 0])"
            ]
          },
          "metadata": {},
          "execution_count": 206
        }
      ]
    },
    {
      "cell_type": "code",
      "metadata": {
        "colab": {
          "base_uri": "https://localhost:8080/"
        },
        "id": "XrVLMO7tZTwX",
        "outputId": "e822d540-56f1-4ccc-a369-4189283bb269"
      },
      "source": [
        "Y_test_enc"
      ],
      "execution_count": null,
      "outputs": [
        {
          "output_type": "execute_result",
          "data": {
            "text/plain": [
              "array([0, 3, 2, 2, 4, 3, 3, 2, 3, 0, 0, 3, 4, 4, 3, 0, 2, 0, 4, 3, 3, 3,\n",
              "       4, 2, 4, 3, 0, 4, 0, 2, 0, 4, 1, 0, 2, 3, 2, 0, 4, 0, 1, 3, 3, 4,\n",
              "       3, 4, 3, 2, 0, 1, 3, 3, 2, 4, 2, 0, 1, 1, 0, 2, 3, 2, 3, 3, 0, 1,\n",
              "       3, 2, 1, 3, 2, 1, 4, 0, 0, 4, 2, 0, 3, 3, 1, 3, 0, 3, 4, 1, 3, 0,\n",
              "       4, 3, 1, 1, 1, 4, 4, 3, 2, 3, 0, 3, 0, 4, 4, 4, 4, 0, 4, 0, 3, 3,\n",
              "       4, 3, 1, 4, 4, 2, 4, 0, 1, 1, 4, 2, 1, 3, 3, 3, 1, 3, 2, 2, 4, 1,\n",
              "       0, 3, 0, 0, 0, 4, 3, 3, 1, 0, 4, 0, 0, 0, 3, 1, 4, 4, 2, 2, 3, 3,\n",
              "       0, 3, 2, 0, 4, 2, 3, 2, 0, 0, 1, 4, 2, 2, 4, 4, 1, 2, 2, 4, 3, 2,\n",
              "       3, 1, 0, 2, 1, 0, 2, 3, 0, 0, 4, 2, 4, 3, 2, 3, 4, 1, 2, 3, 0, 0,\n",
              "       1, 2, 2, 2, 2, 2, 3, 3, 3, 0, 3, 3, 0, 0, 3, 3, 1, 3, 0, 2, 4, 0,\n",
              "       2, 2, 2, 3, 0, 0, 1, 2, 0, 3, 3, 4, 0, 0, 4, 4, 1, 0, 3, 3, 0, 3,\n",
              "       3, 4, 0, 1, 1, 1, 4, 0, 3, 1, 3, 0, 4, 1, 3, 3, 0, 4, 0, 4, 3, 3,\n",
              "       2, 3, 2, 1, 2, 4, 2, 2, 3, 3, 3, 1, 3, 0, 2, 4, 0, 2, 2, 4, 4, 0,\n",
              "       1, 2, 3, 4, 1, 2, 4, 2, 3, 4, 3, 0, 2, 4, 4, 2, 3, 3, 2, 1, 1, 1,\n",
              "       3, 3, 0, 3, 1, 2, 2, 3, 1, 0, 2, 3, 0, 1, 4, 3, 1, 0, 3, 4, 0, 3,\n",
              "       3, 3, 2, 0, 4, 3, 4, 2, 3, 4, 1, 2, 0, 1, 3, 3, 1, 1, 3, 4, 0, 3,\n",
              "       1, 0, 1, 1, 0, 1, 2, 3, 2, 1, 0, 1, 4, 4, 4, 4, 0, 4, 1, 3, 0, 4,\n",
              "       0, 1, 2, 2, 2, 3, 2, 0, 0, 1, 1, 4, 3, 2, 2, 3, 4, 4, 4, 2, 1, 1,\n",
              "       3, 3, 0, 3, 4, 0, 1, 3, 3, 2, 0, 2, 0, 4, 3, 3, 1, 3, 1, 3, 3, 0,\n",
              "       2, 1, 4, 0, 0, 0, 3, 4, 2, 0, 3, 1, 1, 0, 3, 0, 3, 1, 2, 0, 2, 0,\n",
              "       0, 1, 0, 1, 1, 3, 1, 4, 3, 3, 3, 0, 2, 3, 4, 0, 2, 1, 2, 0, 0, 0,\n",
              "       0, 4, 4, 1, 0, 0, 4, 0, 2, 3, 0, 1, 0, 3, 1, 4, 3, 0, 4, 1, 0, 1,\n",
              "       1, 0, 4, 3, 4, 0, 4, 3, 3, 3, 0, 1, 3, 3, 4, 3, 0, 2, 3, 0, 1, 4,\n",
              "       4, 4, 2, 1, 0, 1, 1, 4, 0, 3, 4, 1, 2, 0, 0, 3, 1, 0, 2, 0, 1, 0,\n",
              "       2, 2, 2, 3, 4, 1, 0, 3, 4, 0, 3, 4, 2, 2, 2, 3, 0, 4, 1, 1, 3, 1,\n",
              "       1, 3, 2, 3, 1, 4, 0, 4, 3, 3, 2, 3, 4, 3, 0, 4, 0, 1, 1, 3, 4, 1,\n",
              "       2, 3, 2, 2, 1, 1, 3, 1, 0, 3, 2, 1, 4, 1, 0, 0, 2, 0, 1, 3, 2, 4,\n",
              "       2, 4, 1, 4, 1, 3, 4, 2, 3, 4, 3, 3, 2, 4, 1, 4, 3, 0, 1, 0, 4, 1,\n",
              "       3, 3, 2, 2, 1, 4, 2, 2, 4, 3, 2, 3, 4, 2, 0, 0, 0, 4, 2, 1, 3, 4,\n",
              "       0, 4, 3, 2, 0, 4, 4, 0, 0, 4, 0, 3, 2, 0, 2, 3, 0, 1, 2, 3, 3, 2,\n",
              "       0, 3, 3, 3, 3, 3, 1, 0])"
            ]
          },
          "metadata": {},
          "execution_count": 209
        }
      ]
    },
    {
      "cell_type": "code",
      "metadata": {
        "colab": {
          "base_uri": "https://localhost:8080/"
        },
        "id": "jvZWJZf2Yfgd",
        "outputId": "e12f8456-cd96-464f-c0c1-5ef2a1780e22"
      },
      "source": [
        "# importing the metrics module from sklearn\n",
        "from sklearn import metrics\n",
        "\n",
        "# use the accuracy_score metric to calculate accuracy of the MNB_model\n",
        "\n",
        "accuracy = metrics.accuracy_score(Y_test_enc, Y_predict)\n",
        "accuracy"
      ],
      "execution_count": null,
      "outputs": [
        {
          "output_type": "execute_result",
          "data": {
            "text/plain": [
              "0.9580838323353293"
            ]
          },
          "metadata": {},
          "execution_count": 210
        }
      ]
    },
    {
      "cell_type": "code",
      "metadata": {
        "id": "7wqYSnfgaMK-"
      },
      "source": [
        "from sklearn.metrics import confusion_matrix, classification_report,ConfusionMatrixDisplay"
      ],
      "execution_count": null,
      "outputs": []
    },
    {
      "cell_type": "code",
      "metadata": {
        "colab": {
          "base_uri": "https://localhost:8080/"
        },
        "id": "wWYnQX1uabuh",
        "outputId": "b87b4956-2780-4b4a-af95-ddb40c60d282"
      },
      "source": [
        "cm=confusion_matrix(Y_test_enc,Y_predict)\n",
        "cm"
      ],
      "execution_count": null,
      "outputs": [
        {
          "output_type": "execute_result",
          "data": {
            "text/plain": [
              "array([[130,   1,   4,   0,   9],\n",
              "       [  3, 101,   3,   0,   5],\n",
              "       [  1,   0, 117,   0,   0],\n",
              "       [  1,   0,   1, 170,   0],\n",
              "       [  0,   0,   0,   0, 122]])"
            ]
          },
          "metadata": {},
          "execution_count": 213
        }
      ]
    },
    {
      "cell_type": "code",
      "metadata": {
        "colab": {
          "base_uri": "https://localhost:8080/",
          "height": 621
        },
        "id": "BMPFkWSHa-0z",
        "outputId": "8a69a461-7a54-4125-9569-747b670d0d67"
      },
      "source": [
        "import matplotlib.pyplot as plt\n",
        "import seaborn as sns\n",
        "plt.figure(figsize=(10,10))\n",
        "plt.title('Confusion matrix of  the Multinomial Naive Bayes classifier by Tam Doan')\n",
        "sns.heatmap(cm,annot=True,fmt=\".1f\")\n",
        "plt.xlabel('Predicted labels')\n",
        "plt.ylabel('Actual labels')\n",
        "plt.show()"
      ],
      "execution_count": null,
      "outputs": [
        {
          "output_type": "display_data",
          "data": {
            "image/png": "[encoded data removed]",
            "text/plain": [
              "<Figure size 720x720 with 2 Axes>"
            ]
          },
          "metadata": {
            "needs_background": "light"
          }
        }
      ]
    },
    {
      "cell_type": "code",
      "metadata": {
        "colab": {
          "base_uri": "https://localhost:8080/"
        },
        "id": "76hutp2TcCSk",
        "outputId": "05c9e9a5-93ec-465d-8760-6a00a4a1cdd6"
      },
      "source": [
        "# use sklearn report \n",
        "rp=classification_report(Y_test_enc,Y_predict)\n",
        "print(rp)"
      ],
      "execution_count": null,
      "outputs": [
        {
          "output_type": "stream",
          "name": "stdout",
          "text": [
            "              precision    recall  f1-score   support\n",
            "\n",
            "           0       0.96      0.90      0.93       144\n",
            "           1       0.99      0.90      0.94       112\n",
            "           2       0.94      0.99      0.96       118\n",
            "           3       1.00      0.99      0.99       172\n",
            "           4       0.90      1.00      0.95       122\n",
            "\n",
            "    accuracy                           0.96       668\n",
            "   macro avg       0.96      0.96      0.96       668\n",
            "weighted avg       0.96      0.96      0.96       668\n",
            "\n"
          ]
        }
      ]
    },
    {
      "cell_type": "code",
      "metadata": {
        "colab": {
          "base_uri": "https://localhost:8080/",
          "height": 206
        },
        "id": "0eKMcNhLdHOv",
        "outputId": "fde6c79c-d095-4ae9-cf82-dcf0329d361a"
      },
      "source": [
        "report=classification_report(Y_test_enc,Y_predict,output_dict=True)\n",
        "for i in range(3):\n",
        "  report.popitem()\n",
        "report\n",
        "report = pd.DataFrame(report).transpose()\n",
        "report"
      ],
      "execution_count": null,
      "outputs": [
        {
          "output_type": "execute_result",
          "data": {
            "text/html": [
              "<div>\n",
              "<style scoped>\n",
              "    .dataframe tbody tr th:only-of-type {\n",
              "        vertical-align: middle;\n",
              "    }\n",
              "\n",
              "    .dataframe tbody tr th {\n",
              "        vertical-align: top;\n",
              "    }\n",
              "\n",
              "    .dataframe thead th {\n",
              "        text-align: right;\n",
              "    }\n",
              "</style>\n",
              "<table border=\"1\" class=\"dataframe\">\n",
              "  <thead>\n",
              "    <tr style=\"text-align: right;\">\n",
              "      <th></th>\n",
              "      <th>precision</th>\n",
              "      <th>recall</th>\n",
              "      <th>f1-score</th>\n",
              "      <th>support</th>\n",
              "    </tr>\n",
              "  </thead>\n",
              "  <tbody>\n",
              "    <tr>\n",
              "      <th>0</th>\n",
              "      <td>0.962963</td>\n",
              "      <td>0.902778</td>\n",
              "      <td>0.931900</td>\n",
              "      <td>144.0</td>\n",
              "    </tr>\n",
              "    <tr>\n",
              "      <th>1</th>\n",
              "      <td>0.990196</td>\n",
              "      <td>0.901786</td>\n",
              "      <td>0.943925</td>\n",
              "      <td>112.0</td>\n",
              "    </tr>\n",
              "    <tr>\n",
              "      <th>2</th>\n",
              "      <td>0.936000</td>\n",
              "      <td>0.991525</td>\n",
              "      <td>0.962963</td>\n",
              "      <td>118.0</td>\n",
              "    </tr>\n",
              "    <tr>\n",
              "      <th>3</th>\n",
              "      <td>1.000000</td>\n",
              "      <td>0.988372</td>\n",
              "      <td>0.994152</td>\n",
              "      <td>172.0</td>\n",
              "    </tr>\n",
              "    <tr>\n",
              "      <th>4</th>\n",
              "      <td>0.897059</td>\n",
              "      <td>1.000000</td>\n",
              "      <td>0.945736</td>\n",
              "      <td>122.0</td>\n",
              "    </tr>\n",
              "  </tbody>\n",
              "</table>\n",
              "</div>"
            ],
            "text/plain": [
              "   precision    recall  f1-score  support\n",
              "0   0.962963  0.902778  0.931900    144.0\n",
              "1   0.990196  0.901786  0.943925    112.0\n",
              "2   0.936000  0.991525  0.962963    118.0\n",
              "3   1.000000  0.988372  0.994152    172.0\n",
              "4   0.897059  1.000000  0.945736    122.0"
            ]
          },
          "metadata": {},
          "execution_count": 254
        }
      ]
    },
    {
      "cell_type": "code",
      "metadata": {
        "colab": {
          "base_uri": "https://localhost:8080/"
        },
        "id": "cBDPgNvDmjHU",
        "outputId": "21c9e1c3-815f-4747-d7e0-93342452453e"
      },
      "source": [
        "c=[]\n",
        "for j in list(report.index):\n",
        "  c.append(int(j))\n",
        "c\n",
        "\n"
      ],
      "execution_count": null,
      "outputs": [
        {
          "output_type": "execute_result",
          "data": {
            "text/plain": [
              "[0, 1, 2, 3, 4]"
            ]
          },
          "metadata": {},
          "execution_count": 270
        }
      ]
    },
    {
      "cell_type": "code",
      "metadata": {
        "id": "IPtrLAXwlAyf"
      },
      "source": [
        "report[]"
      ],
      "execution_count": null,
      "outputs": []
    },
    {
      "cell_type": "code",
      "metadata": {
        "colab": {
          "base_uri": "https://localhost:8080/",
          "height": 206
        },
        "id": "KuMZ98qMdiCo",
        "outputId": "7875846d-4231-42fd-959d-6cf00c01a9ff"
      },
      "source": [
        "# report_5=report.iloc[:5]\n",
        "\n",
        "report_5['Category']=enc1.inverse_transform(c)\n",
        "report_5=report_5[['Category','precision','recall','f1-score','support']]\n",
        "report_5\n"
      ],
      "execution_count": null,
      "outputs": [
        {
          "output_type": "execute_result",
          "data": {
            "text/html": [
              "<div>\n",
              "<style scoped>\n",
              "    .dataframe tbody tr th:only-of-type {\n",
              "        vertical-align: middle;\n",
              "    }\n",
              "\n",
              "    .dataframe tbody tr th {\n",
              "        vertical-align: top;\n",
              "    }\n",
              "\n",
              "    .dataframe thead th {\n",
              "        text-align: right;\n",
              "    }\n",
              "</style>\n",
              "<table border=\"1\" class=\"dataframe\">\n",
              "  <thead>\n",
              "    <tr style=\"text-align: right;\">\n",
              "      <th></th>\n",
              "      <th>Category</th>\n",
              "      <th>precision</th>\n",
              "      <th>recall</th>\n",
              "      <th>f1-score</th>\n",
              "      <th>support</th>\n",
              "    </tr>\n",
              "  </thead>\n",
              "  <tbody>\n",
              "    <tr>\n",
              "      <th>0</th>\n",
              "      <td>business</td>\n",
              "      <td>0.962963</td>\n",
              "      <td>0.902778</td>\n",
              "      <td>0.931900</td>\n",
              "      <td>144.0</td>\n",
              "    </tr>\n",
              "    <tr>\n",
              "      <th>1</th>\n",
              "      <td>entertainment</td>\n",
              "      <td>0.990196</td>\n",
              "      <td>0.901786</td>\n",
              "      <td>0.943925</td>\n",
              "      <td>112.0</td>\n",
              "    </tr>\n",
              "    <tr>\n",
              "      <th>2</th>\n",
              "      <td>politics</td>\n",
              "      <td>0.936000</td>\n",
              "      <td>0.991525</td>\n",
              "      <td>0.962963</td>\n",
              "      <td>118.0</td>\n",
              "    </tr>\n",
              "    <tr>\n",
              "      <th>3</th>\n",
              "      <td>sport</td>\n",
              "      <td>1.000000</td>\n",
              "      <td>0.988372</td>\n",
              "      <td>0.994152</td>\n",
              "      <td>172.0</td>\n",
              "    </tr>\n",
              "    <tr>\n",
              "      <th>4</th>\n",
              "      <td>tech</td>\n",
              "      <td>0.897059</td>\n",
              "      <td>1.000000</td>\n",
              "      <td>0.945736</td>\n",
              "      <td>122.0</td>\n",
              "    </tr>\n",
              "  </tbody>\n",
              "</table>\n",
              "</div>"
            ],
            "text/plain": [
              "        Category  precision    recall  f1-score  support\n",
              "0       business   0.962963  0.902778  0.931900    144.0\n",
              "1  entertainment   0.990196  0.901786  0.943925    112.0\n",
              "2       politics   0.936000  0.991525  0.962963    118.0\n",
              "3          sport   1.000000  0.988372  0.994152    172.0\n",
              "4           tech   0.897059  1.000000  0.945736    122.0"
            ]
          },
          "metadata": {},
          "execution_count": 278
        }
      ]
    },
    {
      "cell_type": "markdown",
      "metadata": {
        "id": "szBocE-ZvR5Y"
      },
      "source": [
        "### **Establishing a baseline model**\n",
        "\n",
        "Baseline models are helpful for easy comparison of the models you build. These models are trained using simple heuristics or rules.\n",
        "\n",
        "**Instructions:**\n",
        "* All you have to do is run the following block of code. Report the accuracy of your model (the Naive Bayes one) in comparison to the baseline model created in the following code block"
      ]
    },
    {
      "cell_type": "code",
      "metadata": {
        "colab": {
          "base_uri": "https://localhost:8080/"
        },
        "id": "evZhWG5lvcPY",
        "outputId": "ce6dfcba-e63b-4cd2-da5b-33625c12fb95"
      },
      "source": [
        "from sklearn.dummy import DummyClassifier\n",
        "from sklearn.metrics import accuracy_score\n",
        "# choose 'most-frequent class' as the baseline method\n",
        "baseline_model = DummyClassifier(strategy=\"most_frequent\")\n",
        "\n",
        "# fit the baseline model on the training data\n",
        "baseline_model.fit(X_train, Y_train_enc)\n",
        "\n",
        "# make predictions on the test data using the created baseline model\n",
        "baseline_preds = baseline_model.predict(X_test)\n",
        "\n",
        "# compute the accuracy of the baseline model\n",
        "print(accuracy_score(Y_test_enc, baseline_preds))"
      ],
      "execution_count": null,
      "outputs": [
        {
          "output_type": "stream",
          "name": "stdout",
          "text": [
            "0.2155688622754491\n"
          ]
        }
      ]
    }
  ]
}